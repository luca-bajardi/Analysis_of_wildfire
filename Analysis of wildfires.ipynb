{
 "cells": [
  {
   "cell_type": "markdown",
   "metadata": {
    "colab_type": "text",
    "id": "ssdepRtE62xQ"
   },
   "source": [
    "<font size=\"6\"> <b> Analysis of wildfire - Data Spaces a.a 2019/2020</b> </font>\n",
    "\n",
    "<font size=\"3\"> <b>by Luca Bajardi and Lidia Fantauzzo</b></font>"
   ]
  },
  {
   "cell_type": "markdown",
   "metadata": {
    "colab_type": "text",
    "id": "XHSbuL2i62xY",
    "toc": true
   },
   "source": [
    "<h1>Table of Contents<span class=\"tocSkip\"></span></h1>\n",
    "<div class=\"toc\"><ul class=\"toc-item\"><li><span><a href=\"#INTRODUCTION\" data-toc-modified-id=\"INTRODUCTION-1\"><span class=\"toc-item-num\">1&nbsp;&nbsp;</span>INTRODUCTION</a></span><ul class=\"toc-item\"><li><span><a href=\"#Tools-overview\" data-toc-modified-id=\"Tools-overview-1.1\"><span class=\"toc-item-num\">1.1&nbsp;&nbsp;</span>Tools overview</a></span></li><li><span><a href=\"#Data-description\" data-toc-modified-id=\"Data-description-1.2\"><span class=\"toc-item-num\">1.2&nbsp;&nbsp;</span>Data description</a></span></li></ul></li><li><span><a href=\"#DATA-PREPROCESSING\" data-toc-modified-id=\"DATA-PREPROCESSING-2\"><span class=\"toc-item-num\">2&nbsp;&nbsp;</span>DATA PREPROCESSING</a></span><ul class=\"toc-item\"><li><span><a href=\"#Dataframe-prep:-working-with-dates\" data-toc-modified-id=\"Dataframe-prep:-working-with-dates-2.1\"><span class=\"toc-item-num\">2.1&nbsp;&nbsp;</span>Dataframe prep: working with dates</a></span></li><li><span><a href=\"#Feature-creation\" data-toc-modified-id=\"Feature-creation-2.2\"><span class=\"toc-item-num\">2.2&nbsp;&nbsp;</span>Feature creation</a></span></li><li><span><a href=\"#Dealing-with-the-missing-category\" data-toc-modified-id=\"Dealing-with-the-missing-category-2.3\"><span class=\"toc-item-num\">2.3&nbsp;&nbsp;</span>Dealing with the missing category</a></span></li><li><span><a href=\"#Choice-of-the-state\" data-toc-modified-id=\"Choice-of-the-state-2.4\"><span class=\"toc-item-num\">2.4&nbsp;&nbsp;</span>Choice of the state</a></span></li><li><span><a href=\"#Retrieve-the-county\" data-toc-modified-id=\"Retrieve-the-county-2.5\"><span class=\"toc-item-num\">2.5&nbsp;&nbsp;</span>Retrieve the county</a></span></li></ul></li><li><span><a href=\"#DATA-EXPLORATION\" data-toc-modified-id=\"DATA-EXPLORATION-3\"><span class=\"toc-item-num\">3&nbsp;&nbsp;</span>DATA EXPLORATION</a></span></li><li><span><a href=\"#DUMMY-VARIABLES\" data-toc-modified-id=\"DUMMY-VARIABLES-4\"><span class=\"toc-item-num\">4&nbsp;&nbsp;</span>DUMMY VARIABLES</a></span></li><li><span><a href=\"#Principal-Component-Analysis-(PCA)\" data-toc-modified-id=\"Principal-Component-Analysis-(PCA)-5\"><span class=\"toc-item-num\">5&nbsp;&nbsp;</span>Principal Component Analysis (PCA)</a></span></li><li><span><a href=\"#CLASSIFICATION\" data-toc-modified-id=\"CLASSIFICATION-6\"><span class=\"toc-item-num\">6&nbsp;&nbsp;</span>CLASSIFICATION</a></span><ul class=\"toc-item\"><li><span><a href=\"#Decision-Tree\" data-toc-modified-id=\"Decision-Tree-6.1\"><span class=\"toc-item-num\">6.1&nbsp;&nbsp;</span>Decision Tree</a></span></li><li><span><a href=\"#Random-Forest\" data-toc-modified-id=\"Random-Forest-6.2\"><span class=\"toc-item-num\">6.2&nbsp;&nbsp;</span>Random Forest</a></span></li><li><span><a href=\"#K-Nearest-Neighbors\" data-toc-modified-id=\"K-Nearest-Neighbors-6.3\"><span class=\"toc-item-num\">6.3&nbsp;&nbsp;</span>K-Nearest Neighbors</a></span></li><li><span><a href=\"#Logistic-Regression\" data-toc-modified-id=\"Logistic-Regression-6.4\"><span class=\"toc-item-num\">6.4&nbsp;&nbsp;</span>Logistic Regression</a></span></li><li><span><a href=\"#Linear-Support-Vector-Machine\" data-toc-modified-id=\"Linear-Support-Vector-Machine-6.5\"><span class=\"toc-item-num\">6.5&nbsp;&nbsp;</span>Linear Support Vector Machine</a></span></li><li><span><a href=\"#SVM-with-kernels\" data-toc-modified-id=\"SVM-with-kernels-6.6\"><span class=\"toc-item-num\">6.6&nbsp;&nbsp;</span>SVM with kernels</a></span></li><li><span><a href=\"#Model-Comparison\" data-toc-modified-id=\"Model-Comparison-6.7\"><span class=\"toc-item-num\">6.7&nbsp;&nbsp;</span>Model Comparison</a></span></li></ul></li><li><span><a href=\"#MODEL-TESTING\" data-toc-modified-id=\"MODEL-TESTING-7\"><span class=\"toc-item-num\">7&nbsp;&nbsp;</span>MODEL TESTING</a></span></li><li><span><a href=\"#CONCLUSIONS\" data-toc-modified-id=\"CONCLUSIONS-8\"><span class=\"toc-item-num\">8&nbsp;&nbsp;</span>CONCLUSIONS</a></span><ul class=\"toc-item\"><li><span><a href=\"#Missing-values-classification\" data-toc-modified-id=\"Missing-values-classification-8.1\"><span class=\"toc-item-num\">8.1&nbsp;&nbsp;</span>Missing values classification</a></span></li><li><span><a href=\"#Final-discussion\" data-toc-modified-id=\"Final-discussion-8.2\"><span class=\"toc-item-num\">8.2&nbsp;&nbsp;</span>Final discussion</a></span></li></ul></li><li><span><a href=\"#SITOGRAPHY\" data-toc-modified-id=\"SITOGRAPHY-9\"><span class=\"toc-item-num\">9&nbsp;&nbsp;</span>SITOGRAPHY</a></span></li></ul></div>"
   ]
  },
  {
   "cell_type": "markdown",
   "metadata": {
    "colab_type": "text",
    "id": "9A9rzSiu62xg"
   },
   "source": [
    "# INTRODUCTION"
   ]
  },
  {
   "cell_type": "markdown",
   "metadata": {
    "colab_type": "text",
    "id": "k-WlZc8X62xi"
   },
   "source": [
    "This paper aims to predict if the forest wildfires in the state of North Dakota are malicious or not, basing our analysis on some of the features of the fires. This work intends to report the results obtained by applying some classifiction methods, in order to learn them and find the best classifier for this porpuse among them. Wildfires are a serious issue for our world, expecially during the past few years, when milions and milions of acres have burned  irreparably. Besides natural causes, humans cause a huge amount of wildfires, some due to indirected causes, some others due to reckless behaviours and the most severe ones due to arsons. For these reasons is really important to the States to know which of them are intentional in order to take action against. "
   ]
  },
  {
   "cell_type": "markdown",
   "metadata": {
    "colab_type": "text",
    "id": "qaIqiv3n62xl"
   },
   "source": [
    "## Tools overview"
   ]
  },
  {
   "cell_type": "markdown",
   "metadata": {
    "colab_type": "text",
    "id": "c2MtoJRv62xn"
   },
   "source": [
    "We chose to use Python as programming language because it is one of the busiest in the machine learning field and it provides \n",
    "deeply developed libraries and a complete documentation for this porpuse. We implemented the Python code by using the Jupyter Notebook which is a web application that allows to create documents containing formatted text and executable code inside it, along with outputs and graphs visualisation.\n",
    "In particular, the main libraries that we used are:\n",
    "* __Sqlite3__ is a C library that provides a lightweight disk-based database that doesn’t require a separate server process and  allows accessing the database using a nonstandard variant of the SQL query language.\n",
    "* __NumPy__ is the fundamental package for scientific computing. It provides support for big matrixes and multidimensional arrays along with a huge collection of high-level mathematical funtions.\n",
    "* __Pandas__ is a software library for data manipulation and analysis. In particular, it offers data strucutres and operations for manipulating numerical tables and time series.\n",
    "* __Matplotlib__ is a comprehensive library for creating static, animated, and interactive visualizations in Python.\n",
    "* __Seaborn__ is a Python data visualization library based on matplotlib and closely integrated with pandas data structures.   It provides a high-level interface for drawing informative statistical graphics.\n",
    "* __Colorcet__ is a collection of perceptually acccurate 256-color colormaps for use with Python plotting programs like Bokeh,  Matplotlib.\n",
    "* __Bokeh__ is an interactive visualization library to make interactive plots, dashboards, and data applications.\n",
    "* __Sklearn__ is a library that provides a large number of the most common algorithms for machine learning, both supervised           (Decision Tree, Naive Bayes, KNN, Logistic Regression, SVM) and unsupervised (K-means). \n",
    "* __Collections__ is a module that implements specialized container datatypes providing alternatives to Python’s general purpose built-in containers.\n",
    "* __Geopy__ makes it easy to locate the coordinates of addresses, cities, countries, and landmarks across the globe using third-party geocoders and other data sources.\n",
    "* __Plotly__ is a graphing library thath makes interactive, publication-quality graphs. \n",
    "* __Urllib__ is a package that collects several modules for working with URLs.\n",
    "* __Json__ is a built-in package which can be used to work with JSON data. JSON is a syntax for storing and exchanging data.\n",
    "* __Addfips__ is a tool for adding state or county FIPS codes to files that contain just the names of those geographies. FIPS codes are the official ID numbers of places in the US. They’re invaluable for matching data from different sources.\n",
    "* __Csv__ module that implements classes to read and write tabular data in CSV format. CSV format is the most common import and export format for spreadsheets and databases."
   ]
  },
  {
   "cell_type": "code",
   "execution_count": 1,
   "metadata": {
    "colab": {},
    "colab_type": "code",
    "id": "0gIGFBRM62xq"
   },
   "outputs": [],
   "source": [
    "import sqlite3\n",
    "import numpy as np\n",
    "import pandas as pd\n",
    "import matplotlib.pyplot as plt\n",
    "import matplotlib.gridspec as gridspec\n",
    "%matplotlib inline\n",
    "import seaborn as sns\n",
    "from mlxtend.plotting import plot_decision_regions\n",
    "\n",
    "import colorcet as cc\n",
    "from bokeh.io import output_notebook, output_file, save, export_png\n",
    "from bokeh.plotting import figure, show\n",
    "from bokeh.models import ColumnDataSource, LogColorMapper\n",
    "\n",
    "from sklearn.model_selection import GridSearchCV, train_test_split\n",
    "from sklearn.metrics import f1_score, confusion_matrix, accuracy_score, precision_score, recall_score\n",
    "from sklearn.tree import DecisionTreeClassifier\n",
    "from sklearn.ensemble import RandomForestClassifier\n",
    "from sklearn.linear_model import LogisticRegression\n",
    "from sklearn.neighbors import KNeighborsClassifier\n",
    "from sklearn.svm import LinearSVC, SVC\n",
    "\n",
    "from sklearn.model_selection import StratifiedKFold\n",
    "from sklearn.model_selection import cross_val_score\n",
    "from sklearn.metrics import roc_curve, auc\n",
    "from matplotlib.legend_handler import HandlerLine2D\n",
    "from sklearn.preprocessing import StandardScaler\n",
    "from sklearn.discriminant_analysis import LinearDiscriminantAnalysis\n",
    "from sklearn.decomposition import PCA\n",
    "from collections import Counter\n",
    "\n",
    "import geopy\n",
    "from geopy.geocoders import Nominatim\n",
    "import plotly.express as px\n",
    "from urllib.request import urlopen\n",
    "import json\n",
    "import addfips\n",
    "import csv\n",
    "\n",
    "import warnings\n",
    "warnings.simplefilter(action='ignore', category=FutureWarning)"
   ]
  },
  {
   "cell_type": "markdown",
   "metadata": {
    "colab_type": "text",
    "id": "zJpLvuqs62x5"
   },
   "source": [
    "## Data description"
   ]
  },
  {
   "cell_type": "markdown",
   "metadata": {
    "colab_type": "text",
    "id": "AiocYm5L62x7"
   },
   "source": [
    "We used the databased provides by Kaggle [\\\"Million US Wildfires\\\"](https://www.kaggle.com/rtatman/188-million-us-wildfires), which is the Fire Program Analysis fire-occurrence database (FPA FOD), and which includes 1.88 million geo-referenced wildfire records, representing a total of 140 million acres burned during the 24-year period in the USA. The entire database has 51 features. Most of them contains information about the reporting agency unit preparing the fire reports, some others contain codes and names of fires for different agencies that dealt with them and others refer to the NWCG data standards that provide a specification that enables the common usage of data across wildland fire information systems. All of these feature are not relevant for our analysis and the most significant variables are:       \n",
    "* __FIRE_YEAR__ = Calendar year in which the fire was discovered or confirmed to exist.\n",
    "* __DISCOVERY_DATE__ = Date on which the fire was discovered or confirmed to exist.\n",
    "* __DISCOVERY_TIME__ = Time of day that the fire was discovered or confirmed to exist.\n",
    "* __STAT_CAUSE_DESCR__ = Description of the cause of the fire ('Structure', 'Fireworks', 'Powerline', 'Railroad', 'Smoking', 'Children', 'Campfire', 'Equipment Use', 'Debris Burning', 'Arson', 'Ligthening', 'Miscellaneous', 'Missing/Undefined'). Miscellaneous is a mix of accidental causes that start the fire.\n",
    "* __CONT_DATE__ = Date on which the fire was declared contained or otherwise controlled ('mm/dd/yyyy' where mm=month, dd=day, and yyyy=year).\n",
    "* __CONT_TIME__ = Time of day that the fire was declared contained or otherwise controlled (hhmm where hh=hour, mm=minutes).\n",
    "* __FIRE_SIZE__ = Estimate of acres within the final perimeter of the fire.\n",
    "* __FIRE_SIZE_CLASS__ = Code for fire size based on the number of acres within the final fire perimeter expenditures (A=greater than 0 but less than or equal to 0.25 acres, B=0.26-9.9 acres, C=10.0-99.9 acres, D=100-299 acres, E=300 to 999 acres, F=1000 to 4999 acres, and G=5000+ acres).\n",
    "* __LATITUDE__ = Latitude (NAD83) for point location of the fire (decimal degrees).\n",
    "* __LONGITUDE__ = Longitude (NAD83) for point location of the fire (decimal degrees).\n",
    "* __STATE__ = Two-letter alphabetic code for the state in which the fire burned (or originated), based on the nominal designation in the fire report.\n",
    "* __COUNTY__ = County, or equivalent, in which the fire burned (or originated), based on nominal designation in the fire report."
   ]
  },
  {
   "cell_type": "markdown",
   "metadata": {
    "colab_type": "text",
    "id": "2GE0WxYy62x9"
   },
   "source": [
    "The database was in the SQLite format, so we use sqlite3 library to deal with the data and import them into pandas.\n",
    "First we needed to establish a connection with the database file."
   ]
  },
  {
   "cell_type": "code",
   "execution_count": 2,
   "metadata": {
    "colab": {},
    "colab_type": "code",
    "id": "nwPpSKTO62x_"
   },
   "outputs": [],
   "source": [
    "cnx = sqlite3.connect('input/FPA_FOD_20170508.sqlite')"
   ]
  },
  {
   "cell_type": "markdown",
   "metadata": {
    "colab_type": "text",
    "id": "N7L9xGm462yL"
   },
   "source": [
    "Then we can create our data frame by running a select query on the DB. The table we wanted is called 'Fires' and as said before, we did not want all the columns so we only selected those we needed and changed their names in lowercases."
   ]
  },
  {
   "cell_type": "code",
   "execution_count": 3,
   "metadata": {
    "colab": {},
    "colab_type": "code",
    "id": "WQUazwcA62yO"
   },
   "outputs": [],
   "source": [
    "df_USA = pd.read_sql_query(\"SELECT FIRE_SIZE, STATE, DISCOVERY_DATE, DISCOVERY_TIME, CONT_DATE, CONT_TIME, \\\n",
    "                        STAT_CAUSE_DESCR, COUNTY, LATITUDE, LONGITUDE \\\n",
    "                        from Fires\", cnx)\n",
    "df_USA.columns = ['fire_size', 'state',\n",
    "                'discovery_date_raw', 'discovery_time', \n",
    "                'cont_date_raw', 'containment_time', \n",
    "                'stat_cause_descr', 'county_name', \n",
    "                'latitude', 'longitude']"
   ]
  },
  {
   "cell_type": "code",
   "execution_count": 4,
   "metadata": {
    "colab": {
     "base_uri": "https://localhost:8080/",
     "height": 318
    },
    "colab_type": "code",
    "executionInfo": {
     "elapsed": 20892,
     "status": "ok",
     "timestamp": 1595168678110,
     "user": {
      "displayName": "Lidia Fantauzzo",
      "photoUrl": "",
      "userId": "11215066616897926720"
     },
     "user_tz": -120
    },
    "id": "_W8VXi8_62yZ",
    "outputId": "2a6887ee-e01e-47e7-c407-57ddde63d76f",
    "scrolled": true
   },
   "outputs": [
    {
     "name": "stdout",
     "output_type": "stream",
     "text": [
      "<class 'pandas.core.frame.DataFrame'>\n",
      "RangeIndex: 1880465 entries, 0 to 1880464\n",
      "Data columns (total 10 columns):\n",
      "fire_size             float64\n",
      "state                 object\n",
      "discovery_date_raw    float64\n",
      "discovery_time        object\n",
      "cont_date_raw         float64\n",
      "containment_time      object\n",
      "stat_cause_descr      object\n",
      "county_name           object\n",
      "latitude              float64\n",
      "longitude             float64\n",
      "dtypes: float64(5), object(5)\n",
      "memory usage: 143.5+ MB\n"
     ]
    }
   ],
   "source": [
    "df_USA.info()"
   ]
  },
  {
   "cell_type": "markdown",
   "metadata": {
    "colab_type": "text",
    "id": "pjUmLOAt62ys"
   },
   "source": [
    "In order to better visualized the huge amount of data that we have, we plotted two heat maps to see the distribution of the number of the wildfires through the years and to detect the states in which the bigger fires are located. Given this very large amount of data, these maps can help us to extract some useful conclusions."
   ]
  },
  {
   "cell_type": "code",
   "execution_count": 5,
   "metadata": {
    "colab": {},
    "colab_type": "code",
    "id": "pOxH0XWu62yu"
   },
   "outputs": [],
   "source": [
    "#Suppress some Pandas warning messages that I believe are actually not relevant (false positives):\n",
    "pd.options.mode.chained_assignment = None\n",
    "#Remove all wildfires in Alaska, Hawaii and Puerto Rico, because they don't fit on our map nicely:\n",
    "new = df_USA.loc[(df_USA.loc[:,'state']!='AK') & (df_USA.loc[:,'state']!='HI') & (df_USA.loc[:,'state']!='PR')]\n",
    "#Group wildfires together that occured near to each other. To do this, I truncated all latitude and longitude values, combined the values into a new attribute (LL_COMBO) and grouped the dataframe by this attribute.\n",
    "new.loc[:,'latitude'] = ((new.loc[:,'latitude']*10).apply(np.floor))/10\n",
    "new.loc[:,'longitude'] = ((new.loc[:,'longitude']*10).apply(np.floor))/10\n",
    "new.loc[:,'ll_combo'] = new.loc[:,'latitude'].map(str) + '-' + new.loc[:,'longitude'].map(str)\n",
    "grouped = new.groupby(['ll_combo', 'latitude', 'longitude'])\n",
    "#Create the datasource that is needed for the first heat maps (showing the number of wildfires per geographic location).\n",
    "number_of_wf = grouped['fire_size'].agg(['count']).reset_index()\n",
    "#Create the datasource that is needed for the second heat map (showing the average size of wildfires per geographic location).\n",
    "size_of_wf = grouped['fire_size'].agg(['mean']).reset_index()"
   ]
  },
  {
   "cell_type": "code",
   "execution_count": null,
   "metadata": {
    "colab": {},
    "colab_type": "code",
    "id": "1sVyyRde62zL"
   },
   "outputs": [],
   "source": [
    "#Create and show the first heat map:\n",
    "\n",
    "source = ColumnDataSource(number_of_wf)\n",
    "p1 = figure(title=\"Number of wildfires occurring from 1992 to 2015 \" + \\\n",
    "            \"(lighter color means more wildfires)\",\n",
    "           toolbar_location=None, plot_width=600, plot_height=400)\n",
    "p1.background_fill_color = \"black\"\n",
    "p1.grid.grid_line_color = None\n",
    "p1.axis.visible = False\n",
    "color_mapper = LogColorMapper(palette=cc.fire)\n",
    "glyph = p1.circle('longitude', 'latitude', source=source,\n",
    "          color={'field': 'count', 'transform' : color_mapper},\n",
    "          size=1)\n",
    "output_notebook()\n",
    "show(p1)"
   ]
  },
  {
   "cell_type": "markdown",
   "metadata": {},
   "source": [
    "<img src=\"images/lighter color means more wildfires.PNG\" width=\"700\" alt=\"Number of wildfires occurring from 1992 to 2015 (lighter color means more wildfires)\">"
   ]
  },
  {
   "cell_type": "code",
   "execution_count": null,
   "metadata": {
    "colab": {},
    "colab_type": "code",
    "id": "x7PvDgIw62za"
   },
   "outputs": [],
   "source": [
    "#Create and show the second heat map:\n",
    "\n",
    "source = ColumnDataSource(size_of_wf)\n",
    "p2 = figure(title=\"Average size of wildfires occurring from 1992 to 2015 \" + \\\n",
    "            \"(lighter color means bigger fire)\",\n",
    "           toolbar_location=None, plot_width=600, plot_height=400)\n",
    "p2.background_fill_color = \"black\"\n",
    "p2.grid.grid_line_color = None\n",
    "p2.axis.visible = False\n",
    "glyph = p2.circle('longitude', 'latitude', source=source,\n",
    "          color={'field': 'mean', 'transform' : color_mapper},\n",
    "          size=1)\n",
    "output_notebook()\n",
    "show(p2)"
   ]
  },
  {
   "cell_type": "markdown",
   "metadata": {},
   "source": [
    "<img src=\"images/lighter color means bigger fire.PNG\" width=\"700\" alt=\"Average size of wildfires occurring from 1992 to 2015 (lighter color means bigger fire)\">"
   ]
  },
  {
   "cell_type": "markdown",
   "metadata": {
    "colab_type": "text",
    "id": "g3jf89Nj62zz"
   },
   "source": [
    "As one can see, there are more occurrances of wildfires in the southern half, probably due to the climate. Moreover, lots of people live in these areas so this makes sense, and also the majority of these wildfires are smaller in size, probably because they are more quickly contained becuase fires are detected sooner by fire departments that are close by. "
   ]
  },
  {
   "cell_type": "markdown",
   "metadata": {
    "colab_type": "text",
    "id": "zAkjrLBj62z1"
   },
   "source": [
    "# DATA PREPROCESSING"
   ]
  },
  {
   "cell_type": "markdown",
   "metadata": {
    "colab_type": "text",
    "id": "uagAV1Gh62z3"
   },
   "source": [
    "In this section we will manipulate the data for a double purpose: create usefull features for our classification and provide us correct data to choose the state to analyse. As already said, this dataset contains too many instances to be processed with this kind of tools, so we decided to choose one of the states of the US and carry out our analysis on this. In order to make the right state choice, we have to clean the dataset and delete the corrupted obseravations; the motivation of this choice will be better explained later.\n"
   ]
  },
  {
   "cell_type": "markdown",
   "metadata": {
    "colab_type": "text",
    "id": "KsVDasfC620O"
   },
   "source": [
    "## Dataframe prep: working with dates"
   ]
  },
  {
   "cell_type": "markdown",
   "metadata": {
    "colab_type": "text",
    "id": "aEjdqFXQ620Q"
   },
   "source": [
    "The discovery_date_raw and cont_date_raw fields were in Julian Date format so we have converted this field to Gregorian dates (the date format we use everyday). Then we have used the Gregorian date to get some additional data fields, namely month, day of the week and the two timestamp of discovery and contaiment of the wildfire."
   ]
  },
  {
   "cell_type": "code",
   "execution_count": 9,
   "metadata": {
    "colab": {
     "base_uri": "https://localhost:8080/",
     "height": 158
    },
    "colab_type": "code",
    "executionInfo": {
     "elapsed": 34869,
     "status": "ok",
     "timestamp": 1595223838808,
     "user": {
      "displayName": "Lidia Fantauzzo",
      "photoUrl": "",
      "userId": "11215066616897926720"
     },
     "user_tz": -120
    },
    "id": "s4fcRQ2F620T",
    "outputId": "b422d401-e51b-4ba0-e3fc-e2baf72a0f93"
   },
   "outputs": [
    {
     "name": "stdout",
     "output_type": "stream",
     "text": [
      "   fire_size state discovery_time stat_cause_descr county_name   latitude  \\\n",
      "0       0.10    CA           1300    Miscellaneous          63  40.036944   \n",
      "1       0.25    CA           0845        Lightning          61  38.933056   \n",
      "2       0.10    CA           1921   Debris Burning          17  38.984167   \n",
      "3       0.10    CA           1600        Lightning           3  38.559167   \n",
      "4       0.10    CA           1600        Lightning           3  38.559167   \n",
      "\n",
      "    longitude discovery_month discovery_weekday     disc_date_final  \\\n",
      "0 -121.005833             Feb               Wed 2005-02-02 13:00:00   \n",
      "1 -120.404444             May               Wed 2004-05-12 08:45:00   \n",
      "2 -120.735556             May               Mon 2004-05-31 19:21:00   \n",
      "3 -119.913333             Jun               Mon 2004-06-28 16:00:00   \n",
      "4 -119.933056             Jun               Mon 2004-06-28 16:00:00   \n",
      "\n",
      "      cont_date_final  \n",
      "0 2005-02-02 17:30:00  \n",
      "1 2004-05-12 15:30:00  \n",
      "2 2004-05-31 20:24:00  \n",
      "3 2004-07-03 14:00:00  \n",
      "4 2004-07-03 12:00:00  \n"
     ]
    }
   ],
   "source": [
    "#ZERO\n",
    "zero_julian_date = pd.Timestamp(0).to_julian_date()\n",
    "#Convert discovery date from julian to standard date\n",
    "df_USA['discovery_date'] = pd.to_datetime(df_USA['discovery_date_raw'] - zero_julian_date, unit='D')\n",
    "#Convert containment date from julian to standard date\n",
    "df_USA['containment_date'] = pd.to_datetime(df_USA['cont_date_raw'] - zero_julian_date, unit='D')\n",
    "#Day of month string\n",
    "df_USA['discovery_month'] = df_USA['discovery_date'].dt.strftime('%b')\n",
    "#Returns the weekday string\n",
    "df_USA['discovery_weekday'] = df_USA['discovery_date'].dt.strftime('%a')\n",
    "#Merge discovery date and time \n",
    "df_USA['disc_date_final'] = pd.to_datetime(df_USA.discovery_date.astype('str') + ' ' + df_USA.discovery_time, errors='coerce')\n",
    "#Merge containment date and time \n",
    "#\"Unknown string Error\". Need to simply deleting them\n",
    "df_USA['cont_date_final'] = pd.to_datetime(df_USA.containment_date.astype('str') + ' ' + df_USA.containment_time, errors='coerce')\n",
    "#Drop the columns that are no longer needed\n",
    "df_USA.drop(['discovery_date', 'discovery_date_raw',\n",
    "        'containment_date', 'containment_time', 'cont_date_raw'], axis=1, inplace=True)\n",
    "#Check the data\n",
    "print(df_USA.head())"
   ]
  },
  {
   "cell_type": "markdown",
   "metadata": {
    "colab_type": "text",
    "id": "N-5fMTjL620c"
   },
   "source": [
    "## Feature creation"
   ]
  },
  {
   "cell_type": "markdown",
   "metadata": {
    "colab_type": "text",
    "id": "G_m74hV2620e"
   },
   "source": [
    "In this section, we create further variables useful for our analysis. Here the description of these new variables:\n",
    "* __is_arson__: a boolean variable which has 1 if the wildfires is caused by arsons, 0 otherwise;\n",
    "* __time_of_day_group__: a nominal variable that has value:\n",
    "    - 'early_morning' if the start time of the fire is between  12:00 am and 04:00 am,\n",
    "    - 'mid_morning' if the start time of the fire is between  04:00 am and 08:00 am\n",
    "    - 'late_morning' if the start time of the fire is between 08:00 am and 12:00 pm\n",
    "    - 'afternoon' if the start time of the fire is between 12:00 pm and 04:00 pm\n",
    "    - 'evening' if the start time of the fire is between 04:00 pm and 08:00 pm\n",
    "    - 'night' if the start time of the fire is between 08:00 pm and 12:00 am\n",
    "    - 'n_a' otherwise\n",
    "* __time_to_cont__: a numerical variable that rappresent the amount of minutes needed to put out the fire;\n",
    "\n",
    "Then we drop out from the dataset the features no longer necessary after the creation of these new ones.\n",
    "A huge number of instances of the dataset had corrupted data, for example the discovery date was later than the \n",
    "extinguishing date, or also the time entered was out of range. Choosing what to do with these data has been not easy for some reasons: firstly, in order to choose the state to analyse, we had to compare only correct data, otherwise after the choice and so after the cleaning, the characteristics that led us to make a certain decision could change; on the other hand, if we had decided to replace corrupt values with some statistical approach, we would have risked creating a too artificial dataset, since for some states the majority of instances were incorrect and we still did not know which state would have been analysed. So, since we needed correct data to choose the state, but, in order to have correct data without deleting instances we had to know in advance which state to choose, we opted for the elimination of the instances considering the large number of data available to us, and so in this, we based our decision on already preprocced data.\n",
    "NaN istances were deleted as well for the same reasons."
   ]
  },
  {
   "cell_type": "code",
   "execution_count": 10,
   "metadata": {
    "colab": {},
    "colab_type": "code",
    "id": "rOdf53JZ620g"
   },
   "outputs": [],
   "source": [
    "#Create Boolean column for Arson Yes/No\n",
    "df_USA['is_arson'] =  df_USA['stat_cause_descr'].map(lambda x: 1 if x =='Arson' else 0)"
   ]
  },
  {
   "cell_type": "code",
   "execution_count": 11,
   "metadata": {
    "colab": {},
    "colab_type": "code",
    "id": "-fmcdv316201"
   },
   "outputs": [],
   "source": [
    "def set_time_group(row):\n",
    "    time = 'n_a'\n",
    "    if row >= 0 and row < 400:\n",
    "        time = 'early_morning'\n",
    "    elif row >= 400 and  row < 800:\n",
    "        time = 'mid_morning'\n",
    "    elif row >= 800 and  row < 1200:\n",
    "        time = 'late_morning'\n",
    "    elif row >=1200 and  row <1600:\n",
    "        time = 'afternoon'\n",
    "    elif row >=1600 and  row <2000:\n",
    "        time = 'evening'\n",
    "    elif row >=2000 and  row <2400:\n",
    "        time = 'night'\n",
    "    else:\n",
    "        time = 'n_a'\n",
    "    return time\n",
    "\n",
    "df_USA['discovery_time'] = pd.to_numeric(df_USA.discovery_time, errors='coerce')\n",
    "df_USA['time_of_day_group'] = df_USA['discovery_time'].apply(lambda x: set_time_group(x))\n",
    "\n",
    "df_USA = df_USA[df_USA['time_of_day_group']!='n_a']"
   ]
  },
  {
   "cell_type": "code",
   "execution_count": 12,
   "metadata": {
    "colab": {},
    "colab_type": "code",
    "id": "SdtO7vQR621A"
   },
   "outputs": [],
   "source": [
    "#Number of minutes to containment\n",
    "df_USA['time_to_cont'] = (df_USA.cont_date_final - df_USA.disc_date_final).astype('timedelta64[m]')\n",
    "df_USA = df_USA[df_USA['time_to_cont']!=0]\n",
    "df_USA = df_USA[df_USA['time_to_cont'].notna()]"
   ]
  },
  {
   "cell_type": "code",
   "execution_count": 13,
   "metadata": {
    "colab": {},
    "colab_type": "code",
    "id": "2rVXYKnZ621O"
   },
   "outputs": [],
   "source": [
    "#Drop the columns that are no longer needed\n",
    "df_USA.drop(['discovery_time', 'disc_date_final', 'cont_date_final'], axis=1, inplace=True)"
   ]
  },
  {
   "cell_type": "markdown",
   "metadata": {
    "colab_type": "text",
    "id": "YWiR-q5362z7"
   },
   "source": [
    "## Dealing with the missing category"
   ]
  },
  {
   "cell_type": "markdown",
   "metadata": {
    "colab_type": "text",
    "id": "m7CmvjK362z9"
   },
   "source": [
    "In this dataset, among the classes that define the cause that originated the fire, there is the class called 'Missing/Undefined'. This class is associated with those fires whose cause is unknown. For our task, having unknown labelled observation is a problem, so we decided to keep aside these instances and predict their labels with our model at the end. "
   ]
  },
  {
   "cell_type": "code",
   "execution_count": 14,
   "metadata": {
    "colab": {},
    "colab_type": "code",
    "id": "us3yYmNB620A"
   },
   "outputs": [],
   "source": [
    "# Get names of indexes\n",
    "indexNum = df_USA[ df_USA['stat_cause_descr'] == 'Missing/Undefined' ].index\n",
    "df_missing= df_USA[ df_USA['stat_cause_descr'] == 'Missing/Undefined' ]\n",
    "# Delete these row indexes from dataFrame\n",
    "df_USA.drop(indexNum, inplace=True)"
   ]
  },
  {
   "cell_type": "markdown",
   "metadata": {
    "colab_type": "text",
    "id": "iOSZUwtu621X"
   },
   "source": [
    "## Choice of the state"
   ]
  },
  {
   "cell_type": "markdown",
   "metadata": {
    "colab_type": "text",
    "id": "2l0tx-RU621Z"
   },
   "source": [
    "After these considerations, we wanted to select a state that was a trade-off between the number of instances, beacuse as said, we could not process too much data, and the number of wildfires caused by arsons, because we wanted a quite balanced dataset. So we plotted an histogram showing the percentage of maliciuos against not malicious wildfires and an other histogram showing the total number of wildfires, both of them with regard to each state."
   ]
  },
  {
   "cell_type": "code",
   "execution_count": 15,
   "metadata": {
    "colab": {
     "base_uri": "https://localhost:8080/",
     "height": 653
    },
    "colab_type": "code",
    "executionInfo": {
     "elapsed": 35286,
     "status": "ok",
     "timestamp": 1595223854077,
     "user": {
      "displayName": "Lidia Fantauzzo",
      "photoUrl": "",
      "userId": "11215066616897926720"
     },
     "user_tz": -120
    },
    "id": "eLMm0tv3621a",
    "outputId": "e4612ead-9323-4e94-ad09-6db65bb3a323",
    "scrolled": false
   },
   "outputs": [
    {
     "data": {
      "image/png": "[encoded data removed]",
      "text/plain": [
       "<Figure size 1440x360 with 1 Axes>"
      ]
     },
     "metadata": {
      "needs_background": "light"
     },
     "output_type": "display_data"
    },
    {
     "data": {
      "image/png": "[encoded data removed]",
      "text/plain": [
       "<Figure size 1440x360 with 1 Axes>"
      ]
     },
     "metadata": {
      "needs_background": "light"
     },
     "output_type": "display_data"
    }
   ],
   "source": [
    "# From raw value to percentage\n",
    "states = set(df_USA['state'])\n",
    "totals = [sum(df_USA['state']==state) for state in states]\n",
    "arson_yes = [sum(df_USA.loc[df_USA['state']==state]['stat_cause_descr']=='Arson') / tot * 100 for state,tot in zip(states, totals)]\n",
    "arson_no = [100 - i for i in arson_yes]\n",
    "arson_yes, states, arson_no, totals = zip(*sorted(zip(arson_yes, states, arson_no, totals)))\n",
    "\n",
    "# Plot non-arson/arson\n",
    "plt.figure(figsize=(20,5))\n",
    "barWidth = 0.85\n",
    "names = states\n",
    "r = range(0,len(states))\n",
    "# Create arson_no Bars\n",
    "plt.bar(r, arson_no, color='royalblue', edgecolor='white', width=barWidth, label=\"non-arson\")\n",
    "# Create arson_yes Bars\n",
    "plt.bar(r, arson_yes, bottom=arson_no, color='orangered', edgecolor='white', width=barWidth, label=\"arson\")\n",
    "\n",
    "# Custom axes\n",
    "plt.xticks(r, names)\n",
    "plt.xlabel(\"States\")\n",
    "plt.ylabel(\"Percentage of non-arson/arson\")\n",
    "\n",
    "# Add a legend\n",
    "plt.legend(loc='upper left', bbox_to_anchor=(0,1.2), ncol=1) #(0.05,0.2)\n",
    "\n",
    "# Show graphic\n",
    "plt.show()\n",
    "\n",
    "# Plot totals\n",
    "plt.figure(figsize=(20,5))  \n",
    "plt.bar(r, totals, color='#b5ffb9', edgecolor='white', width=barWidth)\n",
    "\n",
    "# Custom axes\n",
    "plt.xticks(r, names)\n",
    "plt.xlabel(\"States\")\n",
    "plt.ylabel(\"Number of fires\")\n",
    "\n",
    "# Show graphic\n",
    "plt.show()"
   ]
  },
  {
   "cell_type": "markdown",
   "metadata": {
    "colab_type": "text",
    "id": "TsHfkTuG621l"
   },
   "source": [
    "Among all the quite well balanced states, with a percentage of malicious wildfires around $ 50\\%$, we decide to take the North Dakota because it was a trade-off between the number of wildfires: it has not so much istances, neither too few. \n",
    "In the event that 14045 requests make the computation calculation too slow, we could still have sampled without losing too much information."
   ]
  },
  {
   "cell_type": "markdown",
   "metadata": {
    "colab_type": "text",
    "id": "MERNHd6y621v"
   },
   "source": [
    "We selected only the instaces referred to the North Dakota from the the correct dataset and from the dataset conteining the missing insances as well."
   ]
  },
  {
   "cell_type": "code",
   "execution_count": 16,
   "metadata": {
    "colab": {
     "base_uri": "https://localhost:8080/",
     "height": 70
    },
    "colab_type": "code",
    "executionInfo": {
     "elapsed": 31143,
     "status": "ok",
     "timestamp": 1595223854083,
     "user": {
      "displayName": "Lidia Fantauzzo",
      "photoUrl": "",
      "userId": "11215066616897926720"
     },
     "user_tz": -120
    },
    "id": "5458jqxj621x",
    "outputId": "66008cb2-552e-4dc9-d59a-2d04bad4d66d",
    "scrolled": true
   },
   "outputs": [
    {
     "name": "stdout",
     "output_type": "stream",
     "text": [
      "Number of Arson:    7252\n",
      "Number of no-Arson: 6793\n",
      "Total number:       14045\n"
     ]
    }
   ],
   "source": [
    "df = df_USA[df_USA['state']=='ND'].copy()\n",
    "df.drop(['state'], axis=1, inplace=True)\n",
    "df_missing_ND = df_missing[df_missing['state']=='ND'].copy()\n",
    "df_missing_ND.drop(['state'], axis=1, inplace=True)\n",
    "\n",
    "print(\"Number of Arson:   \",sum(df['is_arson']==1))\n",
    "print(\"Number of no-Arson:\",sum(df['is_arson']==0))\n",
    "print(\"Total number:      \",len(df))"
   ]
  },
  {
   "cell_type": "markdown",
   "metadata": {
    "colab_type": "text",
    "id": "StJcpIFIJpP8"
   },
   "source": [
    "We sampled the dataset in order to obtain a suitable number of instances to allow us to obtain computational results in a reasonable time. We took 5000 samples and since the dataset is quite balanced, the sample would have been stratified with respect the target variable."
   ]
  },
  {
   "cell_type": "code",
   "execution_count": 17,
   "metadata": {
    "colab": {
     "base_uri": "https://localhost:8080/",
     "height": 70
    },
    "colab_type": "code",
    "executionInfo": {
     "elapsed": 28793,
     "status": "ok",
     "timestamp": 1595223854087,
     "user": {
      "displayName": "Lidia Fantauzzo",
      "photoUrl": "",
      "userId": "11215066616897926720"
     },
     "user_tz": -120
    },
    "id": "iUFRmBiLGbuQ",
    "outputId": "8526f4f3-318e-4f55-fba2-ffae5c0c009e"
   },
   "outputs": [
    {
     "name": "stdout",
     "output_type": "stream",
     "text": [
      "Number of Arson:    2582\n",
      "Number of no-Arson: 2418\n",
      "Total number:       5000\n"
     ]
    }
   ],
   "source": [
    "df = df.sample(n=5000, random_state=3122)\n",
    "\n",
    "print(\"Number of Arson:   \",sum(df['is_arson']==1))\n",
    "print(\"Number of no-Arson:\",sum(df['is_arson']==0))\n",
    "print(\"Total number:      \",len(df))"
   ]
  },
  {
   "cell_type": "markdown",
   "metadata": {
    "colab_type": "text",
    "id": "ewaZUv6uVndr"
   },
   "source": [
    "## Retrieve the county"
   ]
  },
  {
   "cell_type": "markdown",
   "metadata": {
    "colab_type": "text",
    "id": "P47JALsKLmvY"
   },
   "source": [
    "Many istances had a NaN county, but we wanted to use this attribute because knowing in which county the wildfire broke out could have been significant for our purpose: malicious fire are less frequent in area that are far away from inhabited centers. So for this reason we used an Google API in order to retrieve the county in this way: through the use of the Geopy library and the APIs implemented inside the library itself, we used the open source service Nominatim by OpenStreetMap in order to obtain the county given latitude and longitude of the wildfire."
   ]
  },
  {
   "cell_type": "code",
   "execution_count": 18,
   "metadata": {
    "colab": {},
    "colab_type": "code",
    "id": "pzB0qiUvVndu"
   },
   "outputs": [],
   "source": [
    "#Loading counties from files and from server\n",
    "def county_search(df):\n",
    "    dict_county = {}\n",
    "    locator = Nominatim(user_agent=\"myGeocoder3\")\n",
    "    with open('input/lat_lon_county.csv', mode='r') as csv_file:\n",
    "        csv_reader = csv.DictReader(csv_file)\n",
    "        for row in csv_reader:\n",
    "            dict_county[row[\"lat_lon\"]] = row[\"county\"]\n",
    "\n",
    "    for i in df.index:\n",
    "        lat = df.loc[i].latitude\n",
    "        lon = df.loc[i].longitude\n",
    "        coordinates_dict = str(lat)+\".\"+str(lon)\n",
    "        try:\n",
    "            df.loc[i,'county_name'] = dict_county[coordinates_dict]\n",
    "        except:\n",
    "            if df.loc[i,'county_name'] != None and df.loc[i,'county_name'].isalpha():\n",
    "                if df.loc[i,'county_name'].isupper() == False:\n",
    "                    df.loc[i,'county_name'] = df.loc[i,'county_name'].upper()\n",
    "            elif df.loc[i,'county_name'] != None and df.loc[i,'county_name'].isalpha() != True and df.loc[i,'county_name'].isdigit() != True:\n",
    "                df.loc[i,'county_name'] = df.loc[i,'county_name'].upper().replace(' ','')\n",
    "            else:\n",
    "                lat = df.loc[i].latitude\n",
    "                lon = df.loc[i].longitude\n",
    "                coordinates = str(lat)+\", \"+str(lon)\n",
    "                location = locator.reverse(coordinates)\n",
    "                try:\n",
    "                    df.loc[i,'county_name'] = location.raw['address']['county'].replace(\" County\",\"\").upper().replace(' ','')\n",
    "                except:\n",
    "                    df.loc[i,'county_name'] = location.raw['address']['state'].upper()\n",
    "            f = open('input/lat_lon_county.csv', 'a')\n",
    "            f.write(str(coordinates_dict)+','+str(df.loc[i].county_name)+'\\n')\n",
    "            f.close()"
   ]
  },
  {
   "cell_type": "markdown",
   "metadata": {
    "colab_type": "text",
    "id": "uzLlVQQtNC7U"
   },
   "source": [
    "We applied the 'county_search' function to both the current dataset and the missing dataset."
   ]
  },
  {
   "cell_type": "code",
   "execution_count": 19,
   "metadata": {
    "colab": {},
    "colab_type": "code",
    "id": "3AsKBdvXNCPF"
   },
   "outputs": [],
   "source": [
    "county_search(df)\n",
    "county_search(df_missing_ND)"
   ]
  },
  {
   "cell_type": "markdown",
   "metadata": {
    "colab_type": "text",
    "id": "0X7JHgNb623V"
   },
   "source": [
    "# DATA EXPLORATION"
   ]
  },
  {
   "cell_type": "code",
   "execution_count": 20,
   "metadata": {
    "colab": {},
    "colab_type": "code",
    "id": "JsrJvxZO623W"
   },
   "outputs": [],
   "source": [
    "#DATA EXPLORATION\n",
    "sns.set(style=\"darkgrid\", palette=\"Set3\")"
   ]
  },
  {
   "cell_type": "markdown",
   "metadata": {
    "colab_type": "text",
    "id": "dXEGaiYm623f"
   },
   "source": [
    "In this section we explored the data in order to find out which are the important features to consider in our analysis. "
   ]
  },
  {
   "cell_type": "code",
   "execution_count": 21,
   "metadata": {
    "colab": {
     "base_uri": "https://localhost:8080/",
     "height": 284
    },
    "colab_type": "code",
    "executionInfo": {
     "elapsed": 15320,
     "status": "ok",
     "timestamp": 1595170800752,
     "user": {
      "displayName": "Lidia Fantauzzo",
      "photoUrl": "",
      "userId": "11215066616897926720"
     },
     "user_tz": -120
    },
    "id": "S3M0uy87623h",
    "outputId": "2c7d3071-8527-444c-e301-c8c5d0614ef1",
    "scrolled": true
   },
   "outputs": [
    {
     "data": {
      "image/png": "[encoded data removed]",
      "text/plain": [
       "<Figure size 432x288 with 1 Axes>"
      ]
     },
     "metadata": {},
     "output_type": "display_data"
    }
   ],
   "source": [
    "#Count distribution by stat_cause_descr variable\n",
    "dist_fig1 = sns.countplot(y='stat_cause_descr', data=df,\n",
    "                     order=df['stat_cause_descr'].value_counts(normalize=True).index)"
   ]
  },
  {
   "cell_type": "code",
   "execution_count": 22,
   "metadata": {
    "colab": {
     "base_uri": "https://localhost:8080/",
     "height": 330
    },
    "colab_type": "code",
    "executionInfo": {
     "elapsed": 24458,
     "status": "ok",
     "timestamp": 1595170891599,
     "user": {
      "displayName": "Lidia Fantauzzo",
      "photoUrl": "",
      "userId": "11215066616897926720"
     },
     "user_tz": -120
    },
    "id": "KxlhDeDl6231",
    "outputId": "b0b01d9c-029c-4cca-fd3f-8af8e6dfa898"
   },
   "outputs": [
    {
     "data": {
      "image/png": "[encoded data removed]",
      "text/plain": [
       "<Figure size 936x720 with 2 Axes>"
      ]
     },
     "metadata": {},
     "output_type": "display_data"
    }
   ],
   "source": [
    "num_max = max(max(Counter(df[df['stat_cause_descr']!='Arson']['discovery_weekday']).values()), \n",
    "              max(Counter(df[df['stat_cause_descr']=='Arson']['discovery_weekday']).values()))\n",
    "\n",
    "gs = gridspec.GridSpec(2, 2)\n",
    "plt.figure(figsize=(13,10))\n",
    "#Distribution by Weekday\n",
    "ax = plt.subplot(gs[0, 0])\n",
    "dist_fig3 = sns.countplot(x='discovery_weekday', data=df[df['stat_cause_descr']!='Arson'],\n",
    "                     order=['Mon', 'Tue', 'Wed', 'Thu', 'Fri', 'Sat', 'Sun'])\n",
    "ax.set(ylim=(0, num_max*1.05))\n",
    "plt.title('Distribution by weekday of non-arson wildfires')\n",
    "ax = plt.subplot(gs[0, 1])\n",
    "dist_fig3 = sns.countplot(x='discovery_weekday', data=df[df['stat_cause_descr']=='Arson'],\n",
    "                     order=['Mon', 'Tue', 'Wed', 'Thu', 'Fri', 'Sat', 'Sun'])\n",
    "ax.set(ylim=(0, num_max*1.05))\n",
    "plt.title('Distribution by weekday of arson wildfires')\n",
    "plt.show()"
   ]
  },
  {
   "cell_type": "markdown",
   "metadata": {
    "colab_type": "text",
    "id": "YV1Nw0ZvmGOk"
   },
   "source": [
    "It can be seen from the weekly distribution of the wildfire that while during the non-holiday days the number of arson and non-arson fires is quite similar in each day, on weekend malicious fires \n",
    "undergo a significant increase, so it could be usefull considering the weekday in the classification of the cause of the fire."
   ]
  },
  {
   "cell_type": "code",
   "execution_count": 23,
   "metadata": {
    "colab": {
     "base_uri": "https://localhost:8080/",
     "height": 330
    },
    "colab_type": "code",
    "executionInfo": {
     "elapsed": 18216,
     "status": "ok",
     "timestamp": 1595171264070,
     "user": {
      "displayName": "Lidia Fantauzzo",
      "photoUrl": "",
      "userId": "11215066616897926720"
     },
     "user_tz": -120
    },
    "id": "xhPssKoD624a",
    "outputId": "7958aed1-5ad2-418e-f3b9-d220ca30bcf8"
   },
   "outputs": [
    {
     "data": {
      "image/png": "[encoded data removed]",
      "text/plain": [
       "<Figure size 936x720 with 2 Axes>"
      ]
     },
     "metadata": {},
     "output_type": "display_data"
    }
   ],
   "source": [
    "num_max = max(max(Counter(df[df['stat_cause_descr']!='Arson']['discovery_month']).values()), \n",
    "              max(Counter(df[df['stat_cause_descr']=='Arson']['discovery_month']).values()))\n",
    "\n",
    "gs = gridspec.GridSpec(2, 2)\n",
    "plt.figure(figsize=(13,10))\n",
    "ax = plt.subplot(gs[0, 0])\n",
    "#Distribution by Month\n",
    "dist_fig4 = sns.countplot(x='discovery_month', data=df[df['stat_cause_descr']!='Arson'], \n",
    "                          order=['Jan', 'Feb', 'Mar', 'Apr', 'May', 'Jun', 'Jul',\n",
    "                           'Aug', 'Sep','Oct', 'Nov', 'Dec'])\n",
    "ax.set(ylim=(0, num_max*1.05))\n",
    "plt.title('Distribution by month of non-arson wildfires')\n",
    "\n",
    "ax = plt.subplot(gs[0, 1])\n",
    "dist_fig4 = sns.countplot(x='discovery_month', data=df[df['stat_cause_descr']=='Arson'], \n",
    "                          order=['Jan', 'Feb', 'Mar', 'Apr', 'May', 'Jun', 'Jul',\n",
    "                           'Aug', 'Sep','Oct', 'Nov', 'Dec'])\n",
    "ax.set(ylim=(0, num_max*1.05))\n",
    "plt.title('Distribution by month of arson wildfires')\n",
    "plt.show()"
   ]
  },
  {
   "cell_type": "code",
   "execution_count": 24,
   "metadata": {
    "colab": {
     "base_uri": "https://localhost:8080/",
     "height": 664
    },
    "colab_type": "code",
    "executionInfo": {
     "elapsed": 4527,
     "status": "ok",
     "timestamp": 1595171662405,
     "user": {
      "displayName": "Lidia Fantauzzo",
      "photoUrl": "",
      "userId": "11215066616897926720"
     },
     "user_tz": -120
    },
    "id": "XbvMOwJE624n",
    "outputId": "436c0f8e-0566-4f29-d89a-888ed713486c",
    "scrolled": false
   },
   "outputs": [
    {
     "data": {
      "image/png": "[encoded data removed]",
      "text/plain": [
       "<Figure size 1440x360 with 1 Axes>"
      ]
     },
     "metadata": {},
     "output_type": "display_data"
    },
    {
     "data": {
      "image/png": "[encoded data removed]",
      "text/plain": [
       "<Figure size 1440x360 with 1 Axes>"
      ]
     },
     "metadata": {},
     "output_type": "display_data"
    }
   ],
   "source": [
    "# From raw value to percentage\n",
    "months = ['Jan', 'Feb', 'Mar', 'Apr', 'May', 'Jun', 'Jul', 'Aug', 'Sep','Oct', 'Nov', 'Dec']\n",
    "totals = [sum(df['discovery_month']==month) for month in months]\n",
    "arson_yes = [sum(df.loc[df['discovery_month']==month]['stat_cause_descr']=='Arson') / tot * 100 for month,tot in zip(months, totals)]\n",
    "arson_no = [100 - i for i in arson_yes]\n",
    "\n",
    "# plot non-arson/arson\n",
    "plt.figure(figsize=(20,5))\n",
    "barWidth = 0.85\n",
    "names = months\n",
    "r = range(0,len(months))\n",
    "# Create arson_no Bars\n",
    "plt.bar(r, arson_yes, color='orangered', edgecolor='white', width=barWidth, label=\"arson\")\n",
    "# Create arson_yes Bars\n",
    "plt.bar(r, arson_no, bottom=arson_yes, color='royalblue', edgecolor='white', width=barWidth, label=\"non-arson\")\n",
    "plt.plot([-0.5, 11.5], [50, 50], \"k--\")\n",
    "\n",
    "# Custom x axis\n",
    "plt.xticks(r, names)\n",
    "plt.xlabel(\"months\")\n",
    "plt.ylabel(\"percentage of non-arson/arson\")\n",
    "\n",
    "# Add a legend\n",
    "plt.legend(loc='upper left', bbox_to_anchor=(0,1.2), ncol=1) #(0.05,0.2)\n",
    "\n",
    "# Show graphic\n",
    "plt.show()\n",
    "\n",
    "#plot totals\n",
    "plt.figure(figsize=(20,5))  \n",
    "plt.bar(r, totals, color='#b5ffb9', edgecolor='white', width=barWidth)\n",
    "# Custom x axis\n",
    "plt.xticks(r, names)\n",
    "plt.xlabel(\"months\")\n",
    "\n",
    "# Show graphic\n",
    "plt.show()"
   ]
  },
  {
   "cell_type": "markdown",
   "metadata": {
    "colab_type": "text",
    "id": "p60t29866247"
   },
   "source": [
    "In these previous figures, it can be seen that the distribution over the months shows something interesting: on November and April, but more significantly on April, the percentage of arson wildfires increases vertiginously and more than the $ 60 \\%$ percent of the total fires are arsons. Also it can be seen that during the most hot months non-arson wildfires are pedominant, it can be due to the fact that high temperatures can cause natural fires. So also this feature can be significant in discriminating the cause of the fire."
   ]
  },
  {
   "cell_type": "markdown",
   "metadata": {
    "colab_type": "text",
    "id": "sSWC5HJ3qt0e"
   },
   "source": [
    "Then we used the addfips library to retrieve the FIPS code of each county in order to be able to plot the number of wildfires occurred in each county in the North Dakota map."
   ]
  },
  {
   "cell_type": "code",
   "execution_count": 25,
   "metadata": {
    "colab": {},
    "colab_type": "code",
    "id": "Vx97dp6E625H"
   },
   "outputs": [],
   "source": [
    "def mapND(c, a):\n",
    "    dati = []\n",
    "    af = addfips.AddFIPS()\n",
    "    for i in set(c):\n",
    "        if i == 'GOLDENVALLEY':\n",
    "            dati.append([i,af.get_county_fips('GOLDEN VALLEY', 'ND'),c[i]])\n",
    "        elif i == 'GRANDFORKSCOUNTY':\n",
    "            dati.append([i,af.get_county_fips('GRAND FORKS COUNTY', 'ND'),c[i]])\n",
    "        else:\n",
    "            dati.append([i,af.get_county_fips(i, 'ND'),c[i]])\n",
    "\n",
    "    dati = pd.DataFrame(dati, columns = ['county','code','num'])\n",
    "\n",
    "    #https://raw.githubusercontent.com/plotly/datasets/master/geojson-counties-fips.json\n",
    "    counties = json.load(open('input/geojson-counties-fips.json'))\n",
    "\n",
    "    fig = px.choropleth_mapbox(dati, geojson=counties, locations='code', color='num',\n",
    "                               color_continuous_scale=\"jet\",\n",
    "                               range_color=(1, 100),\n",
    "                               mapbox_style=\"carto-positron\",\n",
    "                               zoom=6, center = {\"lat\": 47.409867, \"lon\": -100.350987},\n",
    "                               opacity=0.5,\n",
    "                               labels={'num':'Number of %a fires'%(a)}\n",
    "                               )\n",
    "    fig.update_layout(margin={\"r\":0,\"t\":0,\"l\":0,\"b\":0})\n",
    "    fig.show()"
   ]
  },
  {
   "cell_type": "code",
   "execution_count": null,
   "metadata": {
    "colab": {
     "base_uri": "https://localhost:8080/",
     "height": 1000,
     "output_embedded_package_id": "1mdpbvLIhdRPzPugQXk7R_iDlyRzmWllz"
    },
    "colab_type": "code",
    "executionInfo": {
     "elapsed": 75671,
     "status": "ok",
     "timestamp": 1595174602222,
     "user": {
      "displayName": "Lidia Fantauzzo",
      "photoUrl": "",
      "userId": "11215066616897926720"
     },
     "user_tz": -120
    },
    "id": "nYu5vF1etXG2",
    "outputId": "aa174b31-ce5a-4db3-f866-662aa65a13a1"
   },
   "outputs": [],
   "source": [
    "ca = Counter(df[df['is_arson']==1]['county_name'])\n",
    "c = Counter(df['county_name'])\n",
    "mapND(c, 'total')\n",
    "mapND(ca, 'arson')"
   ]
  },
  {
   "cell_type": "markdown",
   "metadata": {},
   "source": [
    "<img src=\"images/total fires.PNG\" width=\"1000\" alt=\"Total wildfires in each county\">"
   ]
  },
  {
   "cell_type": "markdown",
   "metadata": {},
   "source": [
    "<img src=\"images/total fires arson.PNG\" width=\"1000\" alt=\"Total arson wildfires in each county\">"
   ]
  },
  {
   "cell_type": "markdown",
   "metadata": {
    "colab_type": "text",
    "id": "exWU5OsTuH3l"
   },
   "source": [
    "From the two maps above, it is intuitive to notice that there are some counties in which there are so much more wilfires than in others. Moreover, comparing the the amount of wildfires in the map of totals and in the map of only arsons, we could conclude that in some counties the number of malicious fires is higher than the accidental or natural ones, so it was better to consider it too."
   ]
  },
  {
   "cell_type": "code",
   "execution_count": 27,
   "metadata": {
    "colab": {},
    "colab_type": "code",
    "id": "Eso_OgteWm8-"
   },
   "outputs": [],
   "source": [
    "df.drop(['stat_cause_descr','latitude', 'longitude'],axis=1, inplace=True)\n",
    "df_missing_ND.drop(['stat_cause_descr','latitude', 'longitude'],axis=1, inplace=True)"
   ]
  },
  {
   "cell_type": "markdown",
   "metadata": {
    "colab_type": "text",
    "id": "olabwVwX623B"
   },
   "source": [
    "# DUMMY VARIABLES"
   ]
  },
  {
   "cell_type": "markdown",
   "metadata": {
    "colab_type": "text",
    "id": "18jPw3OI623C"
   },
   "source": [
    "After all the data preprocessing, our dataset had 4 categorical variables and all four were nominal. In order to perform the classification with categorcal variables, we had to remap them.\n",
    "\n",
    "The first method that it could have been used, was the __Label Encoding__.\n",
    "This method consists in mapping each value of the variable with a number from 0 up to number of levels minus 1. Using this method in this case would have been wrong. For example, if we consider the 'discovery_month' variable, mapping each month with a number, would implicitly have assigned them an order and a distance, that could have been good for example for January and February, but not for Dicember and January, that would have been 0 and 11, but actually they are consequents. The same would have been for the 'discovery_weekday' and 'time_of_day_group', even worst for 'county_name'.\n",
    "\n",
    "This problem has been solved by using the __One Hot Encoding__ technique. So for each categorical variable, we obtained a number of new dummy variables equals to the number of different levels and these new columns, referred to each level, have 1 if the instance was in that level, 0 ohterwise. Moreover, we deleted one columns for each old variable, because we can retrieve that value if an observation has all zeros in the remaining columns associated with that old variable.\n",
    "\n",
    "At the end we deleted the original variables, obtaining a total of 74 dummy variables plus 2 numerical variables.\n",
    "\n",
    "We applied this algorithm also on the missing dataset but something important had to be taken into consideration: in this dataset not all the levels for each nominal atribute could be necessarly present, so in order to be consistent it was necessary to add one zero column for each missing level in the missing dataset, that was indeed present in the other dataset. In this way the number of attribute for the two dataset were the same and the same prediction method could have been applied."
   ]
  },
  {
   "cell_type": "code",
   "execution_count": 28,
   "metadata": {
    "colab": {
     "base_uri": "https://localhost:8080/",
     "height": 217
    },
    "colab_type": "code",
    "executionInfo": {
     "elapsed": 1012,
     "status": "ok",
     "timestamp": 1595223860831,
     "user": {
      "displayName": "Lidia Fantauzzo",
      "photoUrl": "",
      "userId": "11215066616897926720"
     },
     "user_tz": -120
    },
    "id": "1cxcbfEg623E",
    "outputId": "8dd97153-a3b7-4af6-e4c8-b34fb3af3d2f",
    "scrolled": true
   },
   "outputs": [
    {
     "data": {
      "text/html": [
       "<div>\n",
       "<style scoped>\n",
       "    .dataframe tbody tr th:only-of-type {\n",
       "        vertical-align: middle;\n",
       "    }\n",
       "\n",
       "    .dataframe tbody tr th {\n",
       "        vertical-align: top;\n",
       "    }\n",
       "\n",
       "    .dataframe thead th {\n",
       "        text-align: right;\n",
       "    }\n",
       "</style>\n",
       "<table border=\"1\" class=\"dataframe\">\n",
       "  <thead>\n",
       "    <tr style=\"text-align: right;\">\n",
       "      <th></th>\n",
       "      <th>fire_size</th>\n",
       "      <th>is_arson</th>\n",
       "      <th>time_to_cont</th>\n",
       "      <th>time_of_day_group_afternoon</th>\n",
       "      <th>time_of_day_group_evening</th>\n",
       "      <th>time_of_day_group_late_morning</th>\n",
       "      <th>time_of_day_group_mid_morning</th>\n",
       "      <th>time_of_day_group_night</th>\n",
       "      <th>discovery_month_Apr</th>\n",
       "      <th>discovery_month_Aug</th>\n",
       "      <th>...</th>\n",
       "      <th>county_name_SLOPE</th>\n",
       "      <th>county_name_STARK</th>\n",
       "      <th>county_name_STEELE</th>\n",
       "      <th>county_name_STUTSMAN</th>\n",
       "      <th>county_name_TOWNER</th>\n",
       "      <th>county_name_TRAILL</th>\n",
       "      <th>county_name_WALSH</th>\n",
       "      <th>county_name_WARD</th>\n",
       "      <th>county_name_WELLS</th>\n",
       "      <th>county_name_WILLIAMS</th>\n",
       "    </tr>\n",
       "  </thead>\n",
       "  <tbody>\n",
       "    <tr>\n",
       "      <th>1576694</th>\n",
       "      <td>0.1</td>\n",
       "      <td>0</td>\n",
       "      <td>45.0</td>\n",
       "      <td>0</td>\n",
       "      <td>1</td>\n",
       "      <td>0</td>\n",
       "      <td>0</td>\n",
       "      <td>0</td>\n",
       "      <td>1</td>\n",
       "      <td>0</td>\n",
       "      <td>...</td>\n",
       "      <td>0</td>\n",
       "      <td>0</td>\n",
       "      <td>0</td>\n",
       "      <td>0</td>\n",
       "      <td>0</td>\n",
       "      <td>0</td>\n",
       "      <td>0</td>\n",
       "      <td>0</td>\n",
       "      <td>0</td>\n",
       "      <td>0</td>\n",
       "    </tr>\n",
       "    <tr>\n",
       "      <th>255624</th>\n",
       "      <td>1.0</td>\n",
       "      <td>1</td>\n",
       "      <td>60.0</td>\n",
       "      <td>0</td>\n",
       "      <td>0</td>\n",
       "      <td>0</td>\n",
       "      <td>0</td>\n",
       "      <td>1</td>\n",
       "      <td>0</td>\n",
       "      <td>0</td>\n",
       "      <td>...</td>\n",
       "      <td>0</td>\n",
       "      <td>0</td>\n",
       "      <td>0</td>\n",
       "      <td>0</td>\n",
       "      <td>0</td>\n",
       "      <td>0</td>\n",
       "      <td>0</td>\n",
       "      <td>0</td>\n",
       "      <td>0</td>\n",
       "      <td>0</td>\n",
       "    </tr>\n",
       "    <tr>\n",
       "      <th>256710</th>\n",
       "      <td>1.0</td>\n",
       "      <td>0</td>\n",
       "      <td>55.0</td>\n",
       "      <td>0</td>\n",
       "      <td>0</td>\n",
       "      <td>0</td>\n",
       "      <td>0</td>\n",
       "      <td>1</td>\n",
       "      <td>0</td>\n",
       "      <td>0</td>\n",
       "      <td>...</td>\n",
       "      <td>0</td>\n",
       "      <td>0</td>\n",
       "      <td>0</td>\n",
       "      <td>0</td>\n",
       "      <td>0</td>\n",
       "      <td>0</td>\n",
       "      <td>0</td>\n",
       "      <td>0</td>\n",
       "      <td>0</td>\n",
       "      <td>0</td>\n",
       "    </tr>\n",
       "    <tr>\n",
       "      <th>176659</th>\n",
       "      <td>1.0</td>\n",
       "      <td>1</td>\n",
       "      <td>30.0</td>\n",
       "      <td>0</td>\n",
       "      <td>0</td>\n",
       "      <td>0</td>\n",
       "      <td>0</td>\n",
       "      <td>0</td>\n",
       "      <td>0</td>\n",
       "      <td>0</td>\n",
       "      <td>...</td>\n",
       "      <td>0</td>\n",
       "      <td>0</td>\n",
       "      <td>0</td>\n",
       "      <td>0</td>\n",
       "      <td>0</td>\n",
       "      <td>0</td>\n",
       "      <td>0</td>\n",
       "      <td>0</td>\n",
       "      <td>0</td>\n",
       "      <td>0</td>\n",
       "    </tr>\n",
       "    <tr>\n",
       "      <th>252480</th>\n",
       "      <td>0.1</td>\n",
       "      <td>0</td>\n",
       "      <td>60.0</td>\n",
       "      <td>0</td>\n",
       "      <td>0</td>\n",
       "      <td>0</td>\n",
       "      <td>0</td>\n",
       "      <td>1</td>\n",
       "      <td>0</td>\n",
       "      <td>0</td>\n",
       "      <td>...</td>\n",
       "      <td>0</td>\n",
       "      <td>0</td>\n",
       "      <td>0</td>\n",
       "      <td>0</td>\n",
       "      <td>0</td>\n",
       "      <td>0</td>\n",
       "      <td>0</td>\n",
       "      <td>0</td>\n",
       "      <td>0</td>\n",
       "      <td>0</td>\n",
       "    </tr>\n",
       "  </tbody>\n",
       "</table>\n",
       "<p>5 rows × 77 columns</p>\n",
       "</div>"
      ],
      "text/plain": [
       "         fire_size  is_arson  time_to_cont  time_of_day_group_afternoon  \\\n",
       "1576694        0.1         0          45.0                            0   \n",
       "255624         1.0         1          60.0                            0   \n",
       "256710         1.0         0          55.0                            0   \n",
       "176659         1.0         1          30.0                            0   \n",
       "252480         0.1         0          60.0                            0   \n",
       "\n",
       "         time_of_day_group_evening  time_of_day_group_late_morning  \\\n",
       "1576694                          1                               0   \n",
       "255624                           0                               0   \n",
       "256710                           0                               0   \n",
       "176659                           0                               0   \n",
       "252480                           0                               0   \n",
       "\n",
       "         time_of_day_group_mid_morning  time_of_day_group_night  \\\n",
       "1576694                              0                        0   \n",
       "255624                               0                        1   \n",
       "256710                               0                        1   \n",
       "176659                               0                        0   \n",
       "252480                               0                        1   \n",
       "\n",
       "         discovery_month_Apr  discovery_month_Aug  ...  county_name_SLOPE  \\\n",
       "1576694                    1                    0  ...                  0   \n",
       "255624                     0                    0  ...                  0   \n",
       "256710                     0                    0  ...                  0   \n",
       "176659                     0                    0  ...                  0   \n",
       "252480                     0                    0  ...                  0   \n",
       "\n",
       "         county_name_STARK  county_name_STEELE  county_name_STUTSMAN  \\\n",
       "1576694                  0                   0                     0   \n",
       "255624                   0                   0                     0   \n",
       "256710                   0                   0                     0   \n",
       "176659                   0                   0                     0   \n",
       "252480                   0                   0                     0   \n",
       "\n",
       "         county_name_TOWNER  county_name_TRAILL  county_name_WALSH  \\\n",
       "1576694                   0                   0                  0   \n",
       "255624                    0                   0                  0   \n",
       "256710                    0                   0                  0   \n",
       "176659                    0                   0                  0   \n",
       "252480                    0                   0                  0   \n",
       "\n",
       "         county_name_WARD  county_name_WELLS  county_name_WILLIAMS  \n",
       "1576694                 0                  0                     0  \n",
       "255624                  0                  0                     0  \n",
       "256710                  0                  0                     0  \n",
       "176659                  0                  0                     0  \n",
       "252480                  0                  0                     0  \n",
       "\n",
       "[5 rows x 77 columns]"
      ]
     },
     "execution_count": 28,
     "metadata": {},
     "output_type": "execute_result"
    }
   ],
   "source": [
    "# Creating instance\n",
    "df_labelled = df.copy()\n",
    "df_mis_lab_ND = df_missing_ND.copy()\n",
    "\n",
    "# Adding the new cols\n",
    "df_labelled = pd.concat([df_labelled,pd.get_dummies(df_labelled['time_of_day_group'], prefix='time_of_day_group')],axis=1)\n",
    "df_labelled = pd.concat([df_labelled,pd.get_dummies(df_labelled['discovery_month'], prefix='discovery_month')],axis=1)\n",
    "df_labelled = pd.concat([df_labelled,pd.get_dummies(df_labelled['discovery_weekday'], prefix='discovery_weekday')],axis=1)\n",
    "df_labelled = pd.concat([df_labelled,pd.get_dummies(df_labelled['county_name'], prefix='county_name')],axis=1)\n",
    "# also for the missing dataset\n",
    "df_mis_lab_ND = pd.concat([df_mis_lab_ND,pd.get_dummies(df_mis_lab_ND['time_of_day_group'], prefix='time_of_day_group')],axis=1)\n",
    "df_mis_lab_ND = pd.concat([df_mis_lab_ND,pd.get_dummies(df_mis_lab_ND['discovery_month'], prefix='discovery_month')],axis=1)\n",
    "df_mis_lab_ND = pd.concat([df_mis_lab_ND,pd.get_dummies(df_mis_lab_ND['discovery_weekday'], prefix='discovery_weekday')],axis=1)\n",
    "df_mis_lab_ND = pd.concat([df_mis_lab_ND,pd.get_dummies(df_mis_lab_ND['county_name'], prefix='county_name')],axis=1)\n",
    "\n",
    "for col_name in df_labelled.columns.difference(df_mis_lab_ND.columns):\n",
    "    df_mis_lab_ND = df_mis_lab_ND.assign(**{col_name: 0})\n",
    "\n",
    "col_drop_county_name = \"county_name_\" + list(set(df_labelled['county_name']))[0]\n",
    "# Removing the old nominal variables\n",
    "df_labelled.drop(['time_of_day_group'],axis=1, inplace=True)\n",
    "df_labelled.drop(['discovery_month'],axis=1, inplace=True)\n",
    "df_labelled.drop(['discovery_weekday'],axis=1, inplace=True)\n",
    "df_labelled.drop(['county_name'],axis=1, inplace=True)\n",
    "df_labelled.drop(['time_of_day_group_early_morning','discovery_month_Jan','discovery_weekday_Mon',col_drop_county_name],\n",
    "                     axis=1,inplace=True)\n",
    "df_mis_lab_ND.drop(['time_of_day_group'],axis=1, inplace=True)\n",
    "df_mis_lab_ND.drop(['discovery_month'],axis=1, inplace=True)\n",
    "df_mis_lab_ND.drop(['discovery_weekday'],axis=1, inplace=True)\n",
    "df_mis_lab_ND.drop(['county_name'],axis=1, inplace=True)\n",
    "df_mis_lab_ND.drop(['time_of_day_group_early_morning','discovery_month_Jan','discovery_weekday_Mon',col_drop_county_name],\n",
    "                       axis=1,inplace=True)\n",
    "df_labelled.head(5)"
   ]
  },
  {
   "cell_type": "code",
   "execution_count": 29,
   "metadata": {
    "colab": {
     "base_uri": "https://localhost:8080/",
     "height": 1000
    },
    "colab_type": "code",
    "id": "L7t3b-hB623M",
    "outputId": "01723533-e65c-4916-918e-29ec3ad305f1",
    "scrolled": true
   },
   "outputs": [
    {
     "name": "stdout",
     "output_type": "stream",
     "text": [
      "<class 'pandas.core.frame.DataFrame'>\n",
      "Int64Index: 5000 entries, 1576694 to 1794448\n",
      "Data columns (total 77 columns):\n",
      "fire_size                         5000 non-null float64\n",
      "is_arson                          5000 non-null int64\n",
      "time_to_cont                      5000 non-null float64\n",
      "time_of_day_group_afternoon       5000 non-null uint8\n",
      "time_of_day_group_evening         5000 non-null uint8\n",
      "time_of_day_group_late_morning    5000 non-null uint8\n",
      "time_of_day_group_mid_morning     5000 non-null uint8\n",
      "time_of_day_group_night           5000 non-null uint8\n",
      "discovery_month_Apr               5000 non-null uint8\n",
      "discovery_month_Aug               5000 non-null uint8\n",
      "discovery_month_Dec               5000 non-null uint8\n",
      "discovery_month_Feb               5000 non-null uint8\n",
      "discovery_month_Jul               5000 non-null uint8\n",
      "discovery_month_Jun               5000 non-null uint8\n",
      "discovery_month_Mar               5000 non-null uint8\n",
      "discovery_month_May               5000 non-null uint8\n",
      "discovery_month_Nov               5000 non-null uint8\n",
      "discovery_month_Oct               5000 non-null uint8\n",
      "discovery_month_Sep               5000 non-null uint8\n",
      "discovery_weekday_Fri             5000 non-null uint8\n",
      "discovery_weekday_Sat             5000 non-null uint8\n",
      "discovery_weekday_Sun             5000 non-null uint8\n",
      "discovery_weekday_Thu             5000 non-null uint8\n",
      "discovery_weekday_Tue             5000 non-null uint8\n",
      "discovery_weekday_Wed             5000 non-null uint8\n",
      "county_name_ADAMS                 5000 non-null uint8\n",
      "county_name_BARNES                5000 non-null uint8\n",
      "county_name_BENSON                5000 non-null uint8\n",
      "county_name_BILLINGS              5000 non-null uint8\n",
      "county_name_BOTTINEAU             5000 non-null uint8\n",
      "county_name_BOWMAN                5000 non-null uint8\n",
      "county_name_BURKE                 5000 non-null uint8\n",
      "county_name_BURLEIGH              5000 non-null uint8\n",
      "county_name_CASS                  5000 non-null uint8\n",
      "county_name_CAVALIER              5000 non-null uint8\n",
      "county_name_DICKEY                5000 non-null uint8\n",
      "county_name_DIVIDE                5000 non-null uint8\n",
      "county_name_DUNN                  5000 non-null uint8\n",
      "county_name_EDDY                  5000 non-null uint8\n",
      "county_name_EMMONS                5000 non-null uint8\n",
      "county_name_FOSTER                5000 non-null uint8\n",
      "county_name_GOLDENVALLEY          5000 non-null uint8\n",
      "county_name_GRANDFORKSCOUNTY      5000 non-null uint8\n",
      "county_name_GRANT                 5000 non-null uint8\n",
      "county_name_GRIGGS                5000 non-null uint8\n",
      "county_name_HETTINGER             5000 non-null uint8\n",
      "county_name_KIDDER                5000 non-null uint8\n",
      "county_name_LAMOURE               5000 non-null uint8\n",
      "county_name_LOGAN                 5000 non-null uint8\n",
      "county_name_MCHENRY               5000 non-null uint8\n",
      "county_name_MCINTOSH              5000 non-null uint8\n",
      "county_name_MCKENZIE              5000 non-null uint8\n",
      "county_name_MCLEAN                5000 non-null uint8\n",
      "county_name_MERCER                5000 non-null uint8\n",
      "county_name_MORTON                5000 non-null uint8\n",
      "county_name_MOUNTRAIL             5000 non-null uint8\n",
      "county_name_NELSON                5000 non-null uint8\n",
      "county_name_OLIVER                5000 non-null uint8\n",
      "county_name_PEMBINA               5000 non-null uint8\n",
      "county_name_PIERCE                5000 non-null uint8\n",
      "county_name_RAMSEY                5000 non-null uint8\n",
      "county_name_RENVILLE              5000 non-null uint8\n",
      "county_name_RICHLAND              5000 non-null uint8\n",
      "county_name_ROLETTE               5000 non-null uint8\n",
      "county_name_SARGENT               5000 non-null uint8\n",
      "county_name_SHERIDAN              5000 non-null uint8\n",
      "county_name_SIOUX                 5000 non-null uint8\n",
      "county_name_SLOPE                 5000 non-null uint8\n",
      "county_name_STARK                 5000 non-null uint8\n",
      "county_name_STEELE                5000 non-null uint8\n",
      "county_name_STUTSMAN              5000 non-null uint8\n",
      "county_name_TOWNER                5000 non-null uint8\n",
      "county_name_TRAILL                5000 non-null uint8\n",
      "county_name_WALSH                 5000 non-null uint8\n",
      "county_name_WARD                  5000 non-null uint8\n",
      "county_name_WELLS                 5000 non-null uint8\n",
      "county_name_WILLIAMS              5000 non-null uint8\n",
      "dtypes: float64(2), int64(1), uint8(74)\n",
      "memory usage: 517.6 KB\n"
     ]
    }
   ],
   "source": [
    "df_labelled.info()"
   ]
  },
  {
   "cell_type": "markdown",
   "metadata": {
    "colab_type": "text",
    "id": "nKtYHJw7anoA"
   },
   "source": [
    "# Principal Component Analysis (PCA)"
   ]
  },
  {
   "cell_type": "markdown",
   "metadata": {
    "colab_type": "text",
    "id": "d7N2yV66axAv"
   },
   "source": [
    "Principal component analysis (PCA) is a statistical procedure that uses an orthogonal transformation to convert $n$ variables of a dataset into a new set of $k$ new variables which are linearly uncorrelated and called principal components. The first principal component direction of the data is that along which the observation vary the most. So it projects the observation on a new dimensional space trying to capture the largest possible variance. The aim is to have $k < n,$ while retaining the highest amount of variance. We can also say that the first principal component minimize the sum of squared perpendicular distances between each point in the new space and the line. The algorithm used to obtain this dimensionality reduction consists in:\n",
    "* Normalizing the X matrix of the attribute;\n",
    "* Computing the correlation matrix of X;\n",
    "* Finding the eigenvalues and the eigenvectors of the correlation matrix;\n",
    "* Ordering the eigenvectors with the same descending order of the corresponding eigenvalues, because each eigenvalue represents the variance explained by the corresponding principal component;\n",
    "* Using the projection matrix W, whose columns are the top $k$ eigenvectors, to project the data in the new space by means of this calculation \n",
    "$X_{new}= XW.$\n",
    "\n",
    "The choice of the number of components to pick is made by analysing the cumulative varianze explained, namely the ratio between the sum of the ordered eigenvalues up to the i-th over the total variance\n",
    "$$PVE = \\dfrac{\\sum_{j=1}^{i} \\lambda_{j} }{\\sum_{j} \\lambda_{j}}$$\n",
    "where $\\lambda_j$ is the j-th eigenvalue.\n",
    "\n",
    "With this process we loose interpretability but we are able to reduce the dimensionality of the dataset, so in some cases this is a worthy step."
   ]
  },
  {
   "cell_type": "markdown",
   "metadata": {
    "colab_type": "text",
    "id": "_0XCbQZo_jzr"
   },
   "source": [
    "In our case, we had 76 attributes, most of them binary. PCA is desinged for continuous variables but there are several opinions on the usefulness of applying PCA to categorical variables and it must be assessed situation by situation, but there are no theoretical violations that prohibit using it. So we decided to try to use it and compare the results obtained with or without. We would like to see if we were able to eliminate less informative data performing PCA and so obtaining better or equal results with less attributes to what we would have obtained with all of them. "
   ]
  },
  {
   "cell_type": "markdown",
   "metadata": {
    "colab_type": "text",
    "id": "ZYzKEeWh334y"
   },
   "source": [
    "Firstly we split the dataset in attributes X and target variable y. Then we divided the dataset in train and test so in this way we could normalize and apply the PCA only on the training set. We set also the dataset of the missing values in order to be able to prepare it as if it were a test dataset."
   ]
  },
  {
   "cell_type": "code",
   "execution_count": 30,
   "metadata": {
    "colab": {},
    "colab_type": "code",
    "id": "BFDxVvTD626n"
   },
   "outputs": [],
   "source": [
    "X = df_labelled.drop(['is_arson'],axis=1)\n",
    "y=df_labelled['is_arson']"
   ]
  },
  {
   "cell_type": "code",
   "execution_count": 31,
   "metadata": {
    "colab": {},
    "colab_type": "code",
    "id": "Ndej_3ldl4xz"
   },
   "outputs": [],
   "source": [
    "X_missing = df_mis_lab_ND.drop(['is_arson'],axis=1)"
   ]
  },
  {
   "cell_type": "code",
   "execution_count": 32,
   "metadata": {
    "colab": {},
    "colab_type": "code",
    "id": "BzldXxrp627A"
   },
   "outputs": [],
   "source": [
    "X_train, X_test, y_train, y_test = train_test_split(X, y,test_size=0.3, stratify=y, shuffle=True)"
   ]
  },
  {
   "cell_type": "code",
   "execution_count": 33,
   "metadata": {
    "colab": {
     "base_uri": "https://localhost:8080/",
     "height": 123
    },
    "colab_type": "code",
    "executionInfo": {
     "elapsed": 960,
     "status": "ok",
     "timestamp": 1595223874517,
     "user": {
      "displayName": "Lidia Fantauzzo",
      "photoUrl": "",
      "userId": "11215066616897926720"
     },
     "user_tz": -120
    },
    "id": "0k3UYwx1627L",
    "outputId": "38bb2da0-d205-4252-eb90-6f2b4572cb5f"
   },
   "outputs": [
    {
     "name": "stdout",
     "output_type": "stream",
     "text": [
      "train\n",
      "0 0.4837142857142857\n",
      "1 0.5162857142857142\n",
      "test\n",
      "0 0.48333333333333334\n",
      "1 0.5166666666666667\n"
     ]
    }
   ],
   "source": [
    "c = Counter(y_train)\n",
    "print(\"train\")\n",
    "for i in [0,1]:\n",
    "    print(i, c[i]/len(y_train))\n",
    "c = Counter(y_test)\n",
    "print(\"test\")\n",
    "for i in [0,1]:\n",
    "    print(i, c[i]/len(y_test))"
   ]
  },
  {
   "cell_type": "code",
   "execution_count": 34,
   "metadata": {
    "colab": {},
    "colab_type": "code",
    "id": "PSHyhtKn627W"
   },
   "outputs": [],
   "source": [
    "# Standardization\n",
    "scaler = StandardScaler()\n",
    "scaler.fit(X_train)\n",
    "X_train_sc = scaler.transform(X_train)\n",
    "\n",
    "X_test_sc = scaler.transform(X_test)\n",
    "X_missing_sc = scaler.transform(X_missing)"
   ]
  },
  {
   "cell_type": "code",
   "execution_count": 37,
   "metadata": {
    "colab": {
     "base_uri": "https://localhost:8080/",
     "height": 312
    },
    "colab_type": "code",
    "executionInfo": {
     "elapsed": 1618,
     "status": "ok",
     "timestamp": 1595223876974,
     "user": {
      "displayName": "Lidia Fantauzzo",
      "photoUrl": "",
      "userId": "11215066616897926720"
     },
     "user_tz": -120
    },
    "id": "liWksRRYaqjX",
    "outputId": "18dc7e70-942e-4c4a-9cd8-c7e469db2f66"
   },
   "outputs": [
    {
     "data": {
      "image/png": "[encoded data removed]",
      "text/plain": [
       "<Figure size 432x288 with 1 Axes>"
      ]
     },
     "metadata": {},
     "output_type": "display_data"
    }
   ],
   "source": [
    "# Calculate the principal components\n",
    "W_pca = PCA().fit(X_train_sc)\n",
    "\n",
    "# Plotting cumulative variance\n",
    "cumvar = np.cumsum(W_pca.explained_variance_ratio_)\n",
    "plt.plot(cumvar)\n",
    "plt.title('Cumulative variance')\n",
    "plt.xlabel('Number of components')\n",
    "plt.ylabel('Variance explained')\n",
    "plt.rcParams['axes.facecolor'] = 'white'\n",
    "plt.show()"
   ]
  },
  {
   "cell_type": "markdown",
   "metadata": {
    "colab_type": "text",
    "id": "zc4_LujWiiYr"
   },
   "source": [
    "Plotting the cumulative variance explained by the new components, we decided to use 45 variables because they explained about 70% of the overall variance. We also tries to use more components to retain more variance but the results obtaines were absolutly the same. "
   ]
  },
  {
   "cell_type": "code",
   "execution_count": 38,
   "metadata": {
    "colab": {
     "base_uri": "https://localhost:8080/",
     "height": 34
    },
    "colab_type": "code",
    "executionInfo": {
     "elapsed": 599,
     "status": "ok",
     "timestamp": 1595223878389,
     "user": {
      "displayName": "Lidia Fantauzzo",
      "photoUrl": "",
      "userId": "11215066616897926720"
     },
     "user_tz": -120
    },
    "id": "11Z6DJq_iNlF",
    "outputId": "c095933f-0ab4-4b48-ccb5-9f753e78dcda"
   },
   "outputs": [
    {
     "data": {
      "text/plain": [
       "0.7352554892477559"
      ]
     },
     "execution_count": 38,
     "metadata": {},
     "output_type": "execute_result"
    }
   ],
   "source": [
    "cumvar[45]"
   ]
  },
  {
   "cell_type": "markdown",
   "metadata": {
    "colab_type": "text",
    "id": "RH7m899ojaj7"
   },
   "source": [
    "After that, we projected the data on the new space with 45 dimensions. We did that for the training, testing and missing datasets. Remember that the new components are no longer interpretable because we have projected the istances in a new dimensional space that has no meaning for us."
   ]
  },
  {
   "cell_type": "code",
   "execution_count": 39,
   "metadata": {
    "colab": {
     "base_uri": "https://localhost:8080/",
     "height": 217
    },
    "colab_type": "code",
    "executionInfo": {
     "elapsed": 687,
     "status": "ok",
     "timestamp": 1595223880455,
     "user": {
      "displayName": "Lidia Fantauzzo",
      "photoUrl": "",
      "userId": "11215066616897926720"
     },
     "user_tz": -120
    },
    "id": "IOg2z6qlj0Bm",
    "outputId": "88a7e0fb-3ef4-4bd8-e76a-c7e462d3d6e6"
   },
   "outputs": [
    {
     "data": {
      "text/html": [
       "<div>\n",
       "<style scoped>\n",
       "    .dataframe tbody tr th:only-of-type {\n",
       "        vertical-align: middle;\n",
       "    }\n",
       "\n",
       "    .dataframe tbody tr th {\n",
       "        vertical-align: top;\n",
       "    }\n",
       "\n",
       "    .dataframe thead th {\n",
       "        text-align: right;\n",
       "    }\n",
       "</style>\n",
       "<table border=\"1\" class=\"dataframe\">\n",
       "  <thead>\n",
       "    <tr style=\"text-align: right;\">\n",
       "      <th></th>\n",
       "      <th>PC_1</th>\n",
       "      <th>PC_2</th>\n",
       "      <th>PC_3</th>\n",
       "      <th>PC_4</th>\n",
       "      <th>PC_5</th>\n",
       "      <th>PC_6</th>\n",
       "      <th>PC_7</th>\n",
       "      <th>PC_8</th>\n",
       "      <th>PC_9</th>\n",
       "      <th>PC_10</th>\n",
       "      <th>...</th>\n",
       "      <th>PC_36</th>\n",
       "      <th>PC_37</th>\n",
       "      <th>PC_38</th>\n",
       "      <th>PC_39</th>\n",
       "      <th>PC_40</th>\n",
       "      <th>PC_41</th>\n",
       "      <th>PC_42</th>\n",
       "      <th>PC_43</th>\n",
       "      <th>PC_44</th>\n",
       "      <th>PC_45</th>\n",
       "    </tr>\n",
       "  </thead>\n",
       "  <tbody>\n",
       "    <tr>\n",
       "      <th>0</th>\n",
       "      <td>-1.917614</td>\n",
       "      <td>-0.469121</td>\n",
       "      <td>-0.633204</td>\n",
       "      <td>1.097959</td>\n",
       "      <td>-0.365127</td>\n",
       "      <td>0.222278</td>\n",
       "      <td>-1.084869</td>\n",
       "      <td>0.930618</td>\n",
       "      <td>0.580224</td>\n",
       "      <td>0.055597</td>\n",
       "      <td>...</td>\n",
       "      <td>0.002012</td>\n",
       "      <td>0.018397</td>\n",
       "      <td>-0.000305</td>\n",
       "      <td>0.001037</td>\n",
       "      <td>0.011701</td>\n",
       "      <td>-0.005760</td>\n",
       "      <td>0.002327</td>\n",
       "      <td>-0.004741</td>\n",
       "      <td>0.004156</td>\n",
       "      <td>-0.003097</td>\n",
       "    </tr>\n",
       "    <tr>\n",
       "      <th>1</th>\n",
       "      <td>-0.719135</td>\n",
       "      <td>-0.612334</td>\n",
       "      <td>-0.463631</td>\n",
       "      <td>1.452240</td>\n",
       "      <td>-0.520235</td>\n",
       "      <td>0.132632</td>\n",
       "      <td>-0.794567</td>\n",
       "      <td>-0.869123</td>\n",
       "      <td>-1.181420</td>\n",
       "      <td>1.633387</td>\n",
       "      <td>...</td>\n",
       "      <td>0.013165</td>\n",
       "      <td>-0.000115</td>\n",
       "      <td>-0.007147</td>\n",
       "      <td>-0.000205</td>\n",
       "      <td>-0.010302</td>\n",
       "      <td>-0.006970</td>\n",
       "      <td>-0.005574</td>\n",
       "      <td>-0.000432</td>\n",
       "      <td>0.002327</td>\n",
       "      <td>0.003286</td>\n",
       "    </tr>\n",
       "    <tr>\n",
       "      <th>2</th>\n",
       "      <td>2.781213</td>\n",
       "      <td>0.295720</td>\n",
       "      <td>1.584045</td>\n",
       "      <td>-1.136129</td>\n",
       "      <td>-0.534263</td>\n",
       "      <td>-0.656606</td>\n",
       "      <td>0.283329</td>\n",
       "      <td>-3.036076</td>\n",
       "      <td>-1.967687</td>\n",
       "      <td>-3.194299</td>\n",
       "      <td>...</td>\n",
       "      <td>2.044253</td>\n",
       "      <td>0.174005</td>\n",
       "      <td>0.927538</td>\n",
       "      <td>-0.533216</td>\n",
       "      <td>0.010110</td>\n",
       "      <td>-1.485242</td>\n",
       "      <td>-0.515575</td>\n",
       "      <td>0.427582</td>\n",
       "      <td>0.880245</td>\n",
       "      <td>1.295972</td>\n",
       "    </tr>\n",
       "    <tr>\n",
       "      <th>3</th>\n",
       "      <td>-0.071418</td>\n",
       "      <td>2.311939</td>\n",
       "      <td>-2.176078</td>\n",
       "      <td>-0.367105</td>\n",
       "      <td>-1.461176</td>\n",
       "      <td>0.841814</td>\n",
       "      <td>0.777495</td>\n",
       "      <td>-0.374163</td>\n",
       "      <td>-1.269244</td>\n",
       "      <td>-0.905456</td>\n",
       "      <td>...</td>\n",
       "      <td>-0.007265</td>\n",
       "      <td>0.001410</td>\n",
       "      <td>-0.007819</td>\n",
       "      <td>-0.004596</td>\n",
       "      <td>-0.001707</td>\n",
       "      <td>-0.006615</td>\n",
       "      <td>-0.001077</td>\n",
       "      <td>0.001738</td>\n",
       "      <td>-0.004783</td>\n",
       "      <td>-0.004914</td>\n",
       "    </tr>\n",
       "    <tr>\n",
       "      <th>4</th>\n",
       "      <td>-1.146836</td>\n",
       "      <td>-0.130783</td>\n",
       "      <td>-1.050898</td>\n",
       "      <td>1.247397</td>\n",
       "      <td>-1.775371</td>\n",
       "      <td>-0.684547</td>\n",
       "      <td>1.142640</td>\n",
       "      <td>0.185211</td>\n",
       "      <td>-0.488035</td>\n",
       "      <td>1.061740</td>\n",
       "      <td>...</td>\n",
       "      <td>-0.005507</td>\n",
       "      <td>-0.006247</td>\n",
       "      <td>-0.002774</td>\n",
       "      <td>-0.008191</td>\n",
       "      <td>-0.012699</td>\n",
       "      <td>-0.004523</td>\n",
       "      <td>-0.009302</td>\n",
       "      <td>0.008854</td>\n",
       "      <td>-0.003420</td>\n",
       "      <td>-0.000214</td>\n",
       "    </tr>\n",
       "  </tbody>\n",
       "</table>\n",
       "<p>5 rows × 45 columns</p>\n",
       "</div>"
      ],
      "text/plain": [
       "       PC_1      PC_2      PC_3      PC_4      PC_5      PC_6      PC_7  \\\n",
       "0 -1.917614 -0.469121 -0.633204  1.097959 -0.365127  0.222278 -1.084869   \n",
       "1 -0.719135 -0.612334 -0.463631  1.452240 -0.520235  0.132632 -0.794567   \n",
       "2  2.781213  0.295720  1.584045 -1.136129 -0.534263 -0.656606  0.283329   \n",
       "3 -0.071418  2.311939 -2.176078 -0.367105 -1.461176  0.841814  0.777495   \n",
       "4 -1.146836 -0.130783 -1.050898  1.247397 -1.775371 -0.684547  1.142640   \n",
       "\n",
       "       PC_8      PC_9     PC_10  ...     PC_36     PC_37     PC_38     PC_39  \\\n",
       "0  0.930618  0.580224  0.055597  ...  0.002012  0.018397 -0.000305  0.001037   \n",
       "1 -0.869123 -1.181420  1.633387  ...  0.013165 -0.000115 -0.007147 -0.000205   \n",
       "2 -3.036076 -1.967687 -3.194299  ...  2.044253  0.174005  0.927538 -0.533216   \n",
       "3 -0.374163 -1.269244 -0.905456  ... -0.007265  0.001410 -0.007819 -0.004596   \n",
       "4  0.185211 -0.488035  1.061740  ... -0.005507 -0.006247 -0.002774 -0.008191   \n",
       "\n",
       "      PC_40     PC_41     PC_42     PC_43     PC_44     PC_45  \n",
       "0  0.011701 -0.005760  0.002327 -0.004741  0.004156 -0.003097  \n",
       "1 -0.010302 -0.006970 -0.005574 -0.000432  0.002327  0.003286  \n",
       "2  0.010110 -1.485242 -0.515575  0.427582  0.880245  1.295972  \n",
       "3 -0.001707 -0.006615 -0.001077  0.001738 -0.004783 -0.004914  \n",
       "4 -0.012699 -0.004523 -0.009302  0.008854 -0.003420 -0.000214  \n",
       "\n",
       "[5 rows x 45 columns]"
      ]
     },
     "execution_count": 39,
     "metadata": {},
     "output_type": "execute_result"
    }
   ],
   "source": [
    "comp = 45\n",
    "X_train_pca = np.dot(X_train_sc, W_pca.components_[:comp,:].T)\n",
    "X_train_pca = pd.DataFrame(X_train_pca, columns=[\"PC_%d\" % (x + 1) for x in range(comp)])\n",
    "X_test_pca = np.dot(X_test_sc, W_pca.components_[:comp,:].T)\n",
    "X_test_pca = pd.DataFrame(X_test_pca, columns=[\"PC_%d\" % (x + 1) for x in range(comp)])\n",
    "X_missing_pca = np.dot(X_missing_sc, W_pca.components_[:comp,:].T)\n",
    "X_missing_pca = pd.DataFrame(X_missing_pca, columns=[\"PC_%d\" % (x + 1) for x in range(comp)])\n",
    "X_train_pca.head()"
   ]
  },
  {
   "cell_type": "markdown",
   "metadata": {
    "colab_type": "text",
    "id": "ScQSh-0p626P"
   },
   "source": [
    "# CLASSIFICATION\n",
    "In order to evaluate and compare classification methods, we compute the number of misclassified observations applying a statistical learning method to predict the response on new observations. In many case we do not have a large test set so we use methods that estimate this error rate by holding out a subset of the training observations from the fitting process, and then applying the model to those held out observations. The method that we used was the __K-fold Cross Validation__ that consists in dividing the\n",
    "dataset in $k$ parts and training and validating the algorithm $k$ different times, using always\n",
    "a different group as validation set and the remaining ones as training set. At the end, the resulting assessment is the average of all the results obtaines. This cross validation method will be automatically implemented by the GridSearcCV() function. Some other measures can be used to evaluate the performance of these classification methods and before heading straight into the algorithms, we want to recall some of them.\n",
    "We define these abbreviations:\n",
    "__TP__ = True positives, __TN__ = True negative, __FP__ = False positive, __FN__ = False negative.\n",
    "* Accuracy = $\\frac{TP + TN}{TP+TN + FP + FN}$.  \n",
    "Accuracy measures how often the model classifies correctly;\n",
    "* Precision = $\\frac{\\text{TP}}{\\text{TP + FP}}$.  \n",
    "Precision measures how many times positive predictions are correct;\n",
    "* Recall = $\\frac{\\text{TP}}{\\text{TP + FN}}$.   \n",
    "Recall measures the ability of the model to detect the actual positive within the data set;\n",
    "* $F1$ = $2 \\cdot \\frac{Precision \\cdot Recall}{Precision + Recall} $.  \n",
    "$F1$ is the harmonic mean of precision and recall and it takes values between 0 and 1. High value means the model has low false positive and low false negative;\n",
    "\n",
    "We used the $F1$ in cross validation and to compare the different classification methods, since it measures a combination of performances. Then when we used also the other ones to evaluate the performance of the best model on the test set.\n",
    "\n",
    "In the following code we reported only the computation carried out on the data after PCA to avoid redundancy, since the code is absolutly the same, but at the end, we showed also the results obtained without applying PCA (but scaling data where needed), in order to understand of it was usefull or not."
   ]
  },
  {
   "cell_type": "markdown",
   "metadata": {
    "colab_type": "text",
    "id": "B1yfSZ4b627j"
   },
   "source": [
    "## Decision Tree"
   ]
  },
  {
   "cell_type": "markdown",
   "metadata": {
    "colab_type": "text",
    "id": "gUldM-9i627l"
   },
   "source": [
    "The process of creating a decision tree consists in\n",
    "* dividing the predictor space, or the set of possible values for $ X_{1},\\dots,X_{p} $, into $ J $ distinct and non-overlapping regions, $ R_{1},\\dots,R_{J}$;\n",
    "* then for every observation that falls into the region $ R_{j} $, we make the same prediction which is the most commonly occurring class of training obeservation in the region for the classification.  \n",
    "\n",
    "The splits in the predictor space are done with the goal of minimizing the classification error rate, which is simply the fraction of training observations in the region that do not belong to the most common class. However classification error rate is not sufficiently sensitive for tree-growing, so other two measure are preferable:\n",
    "\n",
    "the __Gini Index__ define by \n",
    "$$ G = \\sum_{k=1}^{K} \\hat{p}_{mk}(1-\\hat{p}_{mk}) $$\n",
    "where $K$ is the number of total classes and $\\hat{p}_{mk} $ is the proportion of training observations in the m-th region that are from the k-th class. It measure the node purity and take small value if all the $\\hat{p}_{mk}$'s are close to zero or one; so a small value indicates that a node contains predominantly observations from a single class.\n",
    "\n",
    "The __Entropy__ define by \n",
    "$$ D = - \\sum_{k=1}^{K} \\hat{p}_{mk}log(\\hat{p}_{mk})  $$\n",
    "and its interpretation is the same of the previous. \n",
    "Trees are very interpretable because they are more closely to human decision-making and they can be display graphically. Althout, they usually do not have the same accuracy as some of the other classification methods.  "
   ]
  },
  {
   "cell_type": "code",
   "execution_count": null,
   "metadata": {
    "colab": {
     "base_uri": "https://localhost:8080/",
     "height": 70
    },
    "colab_type": "code",
    "executionInfo": {
     "elapsed": 23913,
     "status": "ok",
     "timestamp": 1595232762956,
     "user": {
      "displayName": "Lidia Fantauzzo",
      "photoUrl": "",
      "userId": "11215066616897926720"
     },
     "user_tz": -120
    },
    "id": "kgxOYjam627o",
    "outputId": "b2327e83-c4e6-4ceb-f72f-e965933aa8d7"
   },
   "outputs": [
    {
     "name": "stdout",
     "output_type": "stream",
     "text": [
      "Best model configuration is:\n",
      "{'criterion': 'entropy', 'max_depth': 4, 'splitter': 'best'}\n",
      "with f1=0.84681\n"
     ]
    }
   ],
   "source": [
    "# Classification model that we want to configure:\n",
    "clf = DecisionTreeClassifier()\n",
    "\n",
    "# Parameter grid\n",
    "# Specify in a dictionary a key for each parameter to be configured and the list of its values\n",
    "# The keys in the dictionary must match the parameter names of the model constructor\n",
    "param_grid = {'criterion':[\"gini\",\"entropy\"],\n",
    "              'splitter':[\"best\",\"random\"],\n",
    "              'max_depth': list(range(1,20,1))}\n",
    "\n",
    "# Configure grid search with the model and the parameter grid\n",
    "# The best model is computed based on the scoring function (f1) and with cross-validation (cv)\n",
    "gridsearch = GridSearchCV(clf, param_grid, cv=5, scoring='f1', n_jobs=-1)\n",
    "\n",
    "# Optimize the model parameters with cross-validation on the training data\n",
    "# The best model configuration is the one with highest f1 score\n",
    "res = gridsearch.fit(X_train_pca, y_train)\n",
    "\n",
    "# Print result\n",
    "print(\"Best model configuration is:\")\n",
    "print(res.best_params_)\n",
    "print(\"with f1=%.5f\" % res.best_score_)"
   ]
  },
  {
   "cell_type": "markdown",
   "metadata": {
    "colab_type": "text",
    "id": "Yt8DzQbr6273"
   },
   "source": [
    "## Random Forest"
   ]
  },
  {
   "cell_type": "markdown",
   "metadata": {
    "colab_type": "text",
    "id": "Werxjz4l6276"
   },
   "source": [
    "Random forest uses trees as building blocks to construct more powerful prediction models. We build a number $B$ of decision trees using B bootstrapped training sample and at the end we took as prediction the one that is predominant for an observation considering all the $B$ trees. The bootstrap is an approach that permits to obtain distinct data sets by repeatedly sampling observations with replacement from the original data set. So, the algorithm that permits to build a random forest consist in creating this $ B $ trees from  $B$ bootstrapped training set. While building a single tree, each time a split in the tree is considered, a random sample of $ m $ predictors is chosen as split candidates from the full set of $ p $ predicotrs. The split is allowed to use only one of these $ m $ predictors and typically we chose $ m \\approx \\sqrt{p} $. This methods avoids that a really strong predictor would be always choosen for the top split, making bagged trees which give predictions highly correlated. This process that can be think as decorrelating the trees, makes the resulting trees less variable and hence more reliable.\n",
    "\n",
    "Here we looked for the best method by varying the number of trees 'n_estimators', the maximum depth of the tree, and measure used to split each single tree, 'criterion'. The number of predictors used at each splitting is set to $\\sqrt{p}$."
   ]
  },
  {
   "cell_type": "code",
   "execution_count": null,
   "metadata": {
    "colab": {
     "base_uri": "https://localhost:8080/",
     "height": 70
    },
    "colab_type": "code",
    "executionInfo": {
     "elapsed": 1186035,
     "status": "ok",
     "timestamp": 1595225260896,
     "user": {
      "displayName": "Lidia Fantauzzo",
      "photoUrl": "",
      "userId": "11215066616897926720"
     },
     "user_tz": -120
    },
    "id": "9hdhfuM06278",
    "outputId": "53980ba8-d074-4bc9-bb2f-87717f1a34d8"
   },
   "outputs": [
    {
     "name": "stdout",
     "output_type": "stream",
     "text": [
      "Best model configuration is:\n",
      "{'criterion': 'gini', 'max_depth': 5.0, 'n_estimators': 45}\n",
      "with f1=0.85529\n"
     ]
    }
   ],
   "source": [
    "# Classification model that we want to configure:\n",
    "rf = RandomForestClassifier(n_jobs=-1)\n",
    "\n",
    "# Parameter grid\n",
    "# Specify in a dictionary a key for each parameter to be configured and the list of its values\n",
    "# The keys in the dictionary must match the parameter names of the model constructor\n",
    "param_grid = {'n_estimators':list(range(5,51,5)), \n",
    "              'max_depth':np.linspace(1, 32, 32, endpoint=True),\n",
    "              'criterion':[\"entropy\",\"gini\"],\n",
    "             }\n",
    "\n",
    "# Configure grid search with the model and the parameter grid\n",
    "# The best model is computed based on the scoring function (f1) and with cross-validation (cv)\n",
    "gridsearch = GridSearchCV(rf, param_grid, scoring='f1', cv=5,n_jobs=-1)\n",
    "\n",
    "# Optimize the model parameters with cross-validation on the training data\n",
    "# The best model configuration is the one with highest f1 score\n",
    "res = gridsearch.fit(X_train_pca, y_train)\n",
    "\n",
    "# Print result\n",
    "print(\"Best model configuration is:\")\n",
    "print(res.best_params_)\n",
    "print(\"with f1=%.5f\" % res.best_score_)"
   ]
  },
  {
   "cell_type": "markdown",
   "metadata": {
    "colab_type": "text",
    "id": "tXXfZ-aV628D"
   },
   "source": [
    "## K-Nearest Neighbors\n",
    "A very simple classifier is the Bayes classifier that assigned each observation to the most likely class given its predictor values, in other words, we assign a test observation to the class $ j $ for which $ P(Y=j|X) $ is largest. Since for real data we usually do not know how to compute this probability, many approaches attempt to estimate it and classify an observation to the class with highest estimated probability, so does the K-Nearest Neighbors (KNN). Given a positive integer $K$ and a test observation $ x_{0} $, the KNN classifier first identifies the neighbors\n",
    "$K$ points in the training data that are closest to $ x_{0} $, represented by $ \\mathcal{N}_{0} $.\n",
    "It then estimates the conditional probability for class $ j $ as the fraction of\n",
    "points in  $ \\mathcal{N}_{0} $ whose response values equal j\n",
    "$$P\\left( Y=j|X=x_{0}\\right) =\\dfrac{1}{K}\\sum_{i\\in \\mathcal{N}_{0}}I\\left( y_{i}=j\\right) .$$\n",
    "The choice of $ K  $ has an important role on the KNN classifier. Higher value makes the methods less flexible and in general when we use more flexible classification methods, the training error will decline but the test error exhibits a U-shape. So we use cross validation to find the value of $ K $ that provides us the most efficient algorithm. Also we tested the value of $p$, the power parameter for the Minkowski metric, which is the default metric use to measure distances between obsarvations, defined as\n",
    "$$(\\sum_{i=1}^{n} (x_i-y_i)^{p})^{1/p}$$\n",
    "where $x$ and $y$ are two vectors and $n$ is the number of predictors. "
   ]
  },
  {
   "cell_type": "code",
   "execution_count": null,
   "metadata": {
    "colab": {
     "base_uri": "https://localhost:8080/",
     "height": 70
    },
    "colab_type": "code",
    "executionInfo": {
     "elapsed": 321244,
     "status": "ok",
     "timestamp": 1595228094077,
     "user": {
      "displayName": "Lidia Fantauzzo",
      "photoUrl": "",
      "userId": "11215066616897926720"
     },
     "user_tz": -120
    },
    "id": "Q4Abu1EO628E",
    "outputId": "30186762-c8b1-4b56-96b6-16db20a52161",
    "scrolled": true
   },
   "outputs": [
    {
     "name": "stdout",
     "output_type": "stream",
     "text": [
      "Best model configuration is:\n",
      "{'n_neighbors': 10, 'p': 6}\n",
      "with f1=0.84205\n"
     ]
    }
   ],
   "source": [
    "# Classification model that we want to configure:\n",
    "knn = KNeighborsClassifier(n_jobs=-1)\n",
    "\n",
    "# Parameter grid\n",
    "# Specify in a dictionary a key for each parameter to be configured and the list of its values\n",
    "# The keys in the dictionary must match the parameter names of the model constructor\n",
    "param_grid = {'n_neighbors': np.arange(5,40,5),\n",
    "              'p': np.arange(4,7,1)\n",
    "             }\n",
    "\n",
    "# Configure grid search with the model and the parameter grid\n",
    "# The best model is computed based on the scoring function (f1) and with cross-validation (cv)\n",
    "gridsearch = GridSearchCV(knn, param_grid, scoring='f1', cv=5, n_jobs=-1)\n",
    "\n",
    "# Optimize the model parameters with cross-validation on the training data\n",
    "# The best model configuration is the one with highest f1 score\n",
    "res = gridsearch.fit(X_train_pca, y_train)\n",
    "\n",
    "# Print result\n",
    "print(\"Best model configuration is:\")\n",
    "print(res.best_params_)\n",
    "print(\"with f1=%.5f\" % res.best_score_)"
   ]
  },
  {
   "cell_type": "markdown",
   "metadata": {
    "colab_type": "text",
    "id": "n2zxzbSP628V"
   },
   "source": [
    "## Logistic Regression\n",
    "For a binary qualitative response we could potentially fit a linear regression and predict the binary response considering if $ \\hat{Y}>0.5 $ or not. However, if we use linear regression, some of our estimates might be\n",
    "outside the $  [0, 1] $ interval, making them hard to interpret as probabilities. For these\n",
    "reasons, it is preferable to use a classification methods that are truly suited for qualitative response values.\n",
    "Logistic regression models the probability that the response $ Y$ belongs to a particular category given data $X$, so the aim is to compute the probability $$ \\pi(x)=P\\left( Y=1|X\\right) . $$ For this purpose we use the logistic function \n",
    "$$\\pi(x)=\\dfrac{\\exp^{X\\beta}}{1+\\exp^{X\\beta}},$$\n",
    "and to fit the $ \\beta $'s we use the method of maximum likelihood. After a bit of manipulation of the previous equation, we find that \n",
    "$$\\log\\left( \\dfrac{\\pi(x)}{1+\\pi(x)}\\right) =X\\beta.$$\n",
    "The left-hand side is called the log-odds or logit. This espression is usefull to interpret the $ \\beta $ coefficients. For quantitative predictors, if $ \\beta_{j} $ is positive then increasing $X$ will be associated with increasing $ \\pi(x) $ and conversely if $ \\beta_{j} $ is negative. For qualitative predictors, if $ \\beta_{j} $ is positive the probability that $ Y=1 $ is higher for those observations which have the feature into the intercept $ \\beta_{0} $ than those which have the $ j$th; conversely if $ \\beta_{j} $ is negative. "
   ]
  },
  {
   "cell_type": "code",
   "execution_count": null,
   "metadata": {
    "colab": {
     "base_uri": "https://localhost:8080/",
     "height": 70
    },
    "colab_type": "code",
    "executionInfo": {
     "elapsed": 3099,
     "status": "ok",
     "timestamp": 1595235660411,
     "user": {
      "displayName": "Lidia Fantauzzo",
      "photoUrl": "",
      "userId": "11215066616897926720"
     },
     "user_tz": -120
    },
    "id": "qNqQRn5S628g",
    "outputId": "9f839865-f8d7-4493-c81e-b6337938e044"
   },
   "outputs": [
    {
     "name": "stdout",
     "output_type": "stream",
     "text": [
      "Best model configuration is:\n",
      "{'penalty': 'l2', 'solver': 'sag'}\n",
      "with f1=0.84909\n"
     ]
    }
   ],
   "source": [
    "# Classification model that we want to configure:\n",
    "logreg = LogisticRegression()\n",
    "\n",
    "# Parameter grid\n",
    "# Specify in a dictionary a key for each parameter to be configured and the list of its values\n",
    "# The keys in the dictionary must match the parameter names of the model constructor\n",
    "param_grid = {'penalty':['l2','l1','elasticnet'],\n",
    "              'solver':['saga','sag']}\n",
    "\n",
    "# Configure grid search with the model and the parameter grid\n",
    "# The best model is computed based on the scoring function (f1) and with cross-validation (cv)\n",
    "gridsearch = GridSearchCV(logreg, param_grid, scoring='f1', cv=5,n_jobs=-1)\n",
    "\n",
    "# Optimize the model parameters with cross-validation on the training data\n",
    "# The best model configuration is the one with highest f1 score\n",
    "res = gridsearch.fit(X_train_pca, y_train)\n",
    "\n",
    "# Print result\n",
    "print(\"Best model configuration is:\")\n",
    "print(res.best_params_)\n",
    "print(\"with f1=%.5f\" % res.best_score_)"
   ]
  },
  {
   "cell_type": "markdown",
   "metadata": {
    "colab_type": "text",
    "id": "pMqN_yqG628o"
   },
   "source": [
    "## Linear Support Vector Machine\n",
    "The key point of the Support Vector Machine is to find the hyperplane that is the farthest from the training observations. We define the margin has the minimal distance from an observation of the training set to the plane, and so the aim is to maximize this margin. This problem can be formulated as follow\n",
    "$$\\min_{w,b}\\dfrac{1}{2}\\|w\\|^{2}, \\qquad \\text{s.t. } y_{i}\\left[ \\left\\langle x,w\\right\\rangle +b\\right] \\geqslant 1,$$\n",
    "where $ w $ is the vector the define the hyperplane, $b$ is a bias, $x$ the data and $y$ the labels. We can also formulate a dual problem of the previous one that shows us that $ w $ is a weighted combination of only the observations lying on the margins, which are the support vectors. This formulation seeks the largest possible margin so that every observation is on the correct side of the hyperplane, but in most cases this problem is not feasible, so we are interested in softening the margin and allowing some observations to be on the incorrect side; the amount of mistakes allowed is proportional to an hyper-parameter $C$. This  reformulation can be expressed as follow\n",
    "$$\n",
    "\t\\min_{w,b}\\dfrac{1}{2}\\|w\\|^{2}+C\\sum_{i}\\xi_{i}, \\qquad \\text{s.t. } y_{i}\\left[ \\left\\langle x,w\\right\\rangle +b\\right] \\geqslant 1-\\xi_{i} \\text{ and } \\xi_{i}\\geqslant0,\n",
    "$$\n",
    "where $ \\xi_{i} $ are the slack variables. The sklearn function that perform the linear SVM  requires\n",
    "the specification of the regularization parameter; this is the inverse of $C$, but we call it $C$ anyway, and so it can be seen as a penalty factor for classification errors during training."
   ]
  },
  {
   "cell_type": "code",
   "execution_count": null,
   "metadata": {
    "colab": {
     "base_uri": "https://localhost:8080/",
     "height": 70
    },
    "colab_type": "code",
    "executionInfo": {
     "elapsed": 11605,
     "status": "ok",
     "timestamp": 1595228519299,
     "user": {
      "displayName": "Lidia Fantauzzo",
      "photoUrl": "",
      "userId": "11215066616897926720"
     },
     "user_tz": -120
    },
    "id": "CsQ2cPsa628q",
    "outputId": "74e78da9-f612-4c44-f409-c4bb64608494",
    "scrolled": true
   },
   "outputs": [
    {
     "name": "stdout",
     "output_type": "stream",
     "text": [
      "Best model configuration is:\n",
      "{'C': 0.01}\n",
      "with f1=0.85022\n"
     ]
    }
   ],
   "source": [
    "# Classification model that we want to configure:\n",
    "svm = LinearSVC()\n",
    "\n",
    "# Parameter grid\n",
    "# Specify in a dictionary a key for each parameter to be configured and the list of its values\n",
    "# The keys in the dictionary must match the parameter names of the model constructor\n",
    "param_grid = {'C': [0.001 , 0.01 ,0.1 ,1 , 10 ,100, 1000]}\n",
    "\n",
    "# Configure grid search with the model and the parameter grid\n",
    "# The best model is computed based on the scoring function (f1) and with cross-validation (cv)\n",
    "gridsearch = GridSearchCV(svm, param_grid, cv=5, scoring='f1',n_jobs=-1)\n",
    "\n",
    "# Optimize the model parameters with cross-validation on the training data\n",
    "# The best model configuration is the one with highest f1 score\n",
    "res = gridsearch.fit(X_train_pca, y_train)\n",
    "\n",
    "# Print result\n",
    "print(\"Best model configuration is:\")\n",
    "print(res.best_params_)\n",
    "print(\"with f1=%.5f\" % res.best_score_)"
   ]
  },
  {
   "cell_type": "markdown",
   "metadata": {
    "colab_type": "text",
    "id": "4MrBrAk_6287"
   },
   "source": [
    "## SVM with kernels \n",
    "\n",
    "The SVM problem can be expressed in a dual form, which is the same both for hard and soft problems, and it can be written as\n",
    "$$\\min_{\\alpha}-\\dfrac{1}{2}\\sum_{i,j}\\alpha_{i}\\alpha_{j}y_{i}y_{j}\\left\\langle x_{i},x_{j}\\right\\rangle+\\sum_{i}\\alpha_{i}, \\qquad \\text{s.t. } \\sum_{i}\\alpha_{i}y_{i}=0 \\text{ and } \\alpha_{i}\\in \\left[0,C\\right] ,\n",
    "$$\n",
    "where the $ \\alpha_{i} $'s are the Lagrange multipliers. In many cases linear classifiers, even with slack variables, are not enough because the boundaries between classes are not linear. Whenever we have a linear algorithm that can be written as a scalar product between vectors, we can solve this problem  using the so call 'kernel trick' that allows us to transform the feature space in order to accommodate non-linear boundaries between the classes. A kernel $ k $ is a symmetric function for which holds that $ k\\left( x,x'\\right) =\\left\\langle \\Phi\\left( x\\right) ,\\Phi\\left( x'\\right) \\right\\rangle  $, for some feature map $ \\Phi $. The linear SVM can be expressed as a function of scalar product, as shown, so we can substitute this scalar product with a kernel function. In this case we have used the __Radial Basis Kernel__ function,\n",
    "$$k\\left(x_{i},x_{j} \\right) = e^{-\\gamma\\left( x_{i}-x_{j}\\right)^{2}}.$$\n",
    "So, in this algorithm we have two hyper-parameters to set $ C $ and $ \\gamma $. The second one defines how far the influence of a single training sample reaches. Since it is inversely proportional to the variance of the Gaussian, when $ \\gamma  $ is high only points that are close to the plausible hyperplane will contribute to the decision boundaries which have a more adjusted curvature. Conversely, when $ \\gamma $ is low the model is more constrained and smoother."
   ]
  },
  {
   "cell_type": "code",
   "execution_count": null,
   "metadata": {
    "colab": {
     "base_uri": "https://localhost:8080/",
     "height": 70
    },
    "colab_type": "code",
    "executionInfo": {
     "elapsed": 161625,
     "status": "ok",
     "timestamp": 1595228953179,
     "user": {
      "displayName": "Lidia Fantauzzo",
      "photoUrl": "",
      "userId": "11215066616897926720"
     },
     "user_tz": -120
    },
    "id": "GSo4X8vs6289",
    "outputId": "d59a3289-5f38-4dc5-b134-0a962621405d"
   },
   "outputs": [
    {
     "name": "stdout",
     "output_type": "stream",
     "text": [
      "Best model configuration is:\n",
      "{'C': 100, 'gamma': 0.001}\n",
      "with f1=0.85595\n"
     ]
    }
   ],
   "source": [
    "# Classification model that we want to configure:\n",
    "svmRBF = SVC()\n",
    "\n",
    "# Parameter grid\n",
    "# Specify in a dictionary a key for each parameter to be configured and the list of its values\n",
    "# The keys in the dictionary must match the parameter names of the model constructor\n",
    "param_grid = {'C': [0.001 , 0.01 ,0.1 ,1 , 10 ,100, 1000],\n",
    "              'gamma': [0.0001, 0.001 , 0.01 ,0.1 ,1 , 10 ,100]}\n",
    "\n",
    "# Configure grid search with the model and the parameter grid\n",
    "# The best model is computed based on the scoring function (f1) and with cross-validation (cv)\n",
    "gridsearch = GridSearchCV(svmRBF, param_grid,scoring='f1', cv=5,n_jobs=-1)\n",
    "\n",
    "# Optimize the model parameters with cross-validation on the training data\n",
    "# The best model configuration is the one with highest f1 score\n",
    "res = gridsearch.fit(X_train_pca, y_train)\n",
    "\n",
    "# Print result\n",
    "print(\"Best model configuration is:\")\n",
    "print(res.best_params_)\n",
    "print(\"with f1=%.5f\" % res.best_score_)"
   ]
  },
  {
   "cell_type": "markdown",
   "metadata": {
    "colab_type": "text",
    "id": "B4UchN4oKsRO"
   },
   "source": [
    "## Model Comparison"
   ]
  },
  {
   "cell_type": "markdown",
   "metadata": {
    "colab_type": "text",
    "id": "m3Dq__GTYm2r"
   },
   "source": [
    "After having found all the best model for each classification method by means of the cross validation, we compared all the final methods in order to find the best one. As already said we used the $F1$ score as measure of comparing, and a summary of the results obtained is shown on the table below."
   ]
  },
  {
   "cell_type": "markdown",
   "metadata": {
    "colab_type": "text",
    "id": "26hCuWs1K5_V"
   },
   "source": [
    " models | data with PCA | original data\n",
    "--- | --- | --- \n",
    "Decision Tree | 0.84681 | 0.84631\n",
    "Random Forest | 0.85529 | 0.84961\n",
    "KNN | 0.84205 | 0.81064\n",
    "Logistic Regression | 0.84909 | 0.83125\n",
    "Linear SVM | 0.85022 | 0.84201\n",
    "SVM RBF | 0.85595 | 0.84841\n"
   ]
  },
  {
   "cell_type": "markdown",
   "metadata": {
    "colab_type": "text",
    "id": "oy0uA2PzZJGt"
   },
   "source": [
    "As it can be seen the results obtained applying the PCA are similar to the obtained without. So, since we can obtain the same result with far fewer attributes it is better to use PCA. The best method obtained is the SVM with RBF kernel and we chose this to apply on the test set."
   ]
  },
  {
   "cell_type": "markdown",
   "metadata": {
    "colab_type": "text",
    "id": "kPWBn-Xn629R"
   },
   "source": [
    "# MODEL TESTING"
   ]
  },
  {
   "cell_type": "markdown",
   "metadata": {
    "colab_type": "text",
    "id": "vKsIKKCxdWJ0"
   },
   "source": [
    "Now we used the SVM with RBF kernel with $C=100$ and $gamma = 0.001$ as best model. So we trained it on the whole train set and then we evaluate it on the test set. The measure the performance using all methods explained at the beginning of the classification."
   ]
  },
  {
   "cell_type": "code",
   "execution_count": 53,
   "metadata": {
    "colab": {},
    "colab_type": "code",
    "id": "DiqZybJR629e"
   },
   "outputs": [],
   "source": [
    "def plot_confusion_matrix(y_test,y_pred, target_names, title='Confusion matrix', cmap=plt.cm.Blues):\n",
    "    cm = pd.crosstab(np.array(y_test), y_pred)\n",
    "    plt.imshow(cm, interpolation='nearest', cmap=cmap)\n",
    "    plt.title('Confusion matrix')\n",
    "    plt.colorbar()\n",
    "    tick_marks = np.arange(len(target_names))\n",
    "    plt.xticks(tick_marks, target_names, rotation=45)\n",
    "    plt.yticks(tick_marks, target_names)\n",
    "    plt.tight_layout()\n",
    "\n",
    "    width, height = cm.shape\n",
    "\n",
    "    for x in range(width):\n",
    "        for y in range(height):\n",
    "            plt.annotate(str(cm[x][y]), xy=(y, x), \n",
    "                        horizontalalignment='center',\n",
    "                        verticalalignment='center',\n",
    "                        color='gold')\n",
    "    plt.ylabel('Predicted label')\n",
    "    plt.xlabel('True label')\n",
    "    plt.show()\n",
    "    \n",
    "    cm = cm / cm.sum(axis=1)\n",
    "    plt.imshow(cm, interpolation='nearest', cmap=cmap)\n",
    "    plt.title('Normalized confusion matrix')\n",
    "    plt.colorbar()\n",
    "    tick_marks = np.arange(len(target_names))\n",
    "    plt.xticks(tick_marks, target_names, rotation=45)\n",
    "    plt.yticks(tick_marks, target_names)\n",
    "    plt.tight_layout()\n",
    "\n",
    "    width, height = cm.shape\n",
    "\n",
    "    for x in range(width):\n",
    "        for y in range(height):\n",
    "            plt.annotate(f\"{cm[x][y]:9.3f}\", xy=(y, x), \n",
    "                        horizontalalignment='center',\n",
    "                        verticalalignment='center',\n",
    "                        color='gold')\n",
    "    plt.ylabel('Predicted label')\n",
    "    plt.xlabel('True label')\n",
    "    plt.show()"
   ]
  },
  {
   "cell_type": "code",
   "execution_count": 54,
   "metadata": {
    "colab": {
     "base_uri": "https://localhost:8080/",
     "height": 693
    },
    "colab_type": "code",
    "executionInfo": {
     "elapsed": 3390,
     "status": "ok",
     "timestamp": 1595242062545,
     "user": {
      "displayName": "Lidia Fantauzzo",
      "photoUrl": "",
      "userId": "11215066616897926720"
     },
     "user_tz": -120
    },
    "id": "ls_U1CQM629S",
    "outputId": "fb1730c7-6212-475e-f23a-9ed4a9afeddc",
    "scrolled": false
   },
   "outputs": [
    {
     "name": "stdout",
     "output_type": "stream",
     "text": [
      "Performances on the test set:\n",
      "f1:        0.86612\n",
      "accuracy:  0.86933\n",
      "precision: 0.92017\n",
      "recall:    0.81806\n"
     ]
    },
    {
     "data": {
      "image/png": "[encoded data removed]",
      "text/plain": [
       "<Figure size 432x288 with 2 Axes>"
      ]
     },
     "metadata": {},
     "output_type": "display_data"
    },
    {
     "data": {
      "image/png": "[encoded data removed]",
      "text/plain": [
       "<Figure size 432x288 with 2 Axes>"
      ]
     },
     "metadata": {},
     "output_type": "display_data"
    }
   ],
   "source": [
    "# Take the best model configuration\n",
    "final_model = SVC(C=100, gamma=0.001)\n",
    "# Fit on complete training set\n",
    "final_model.fit(X_train_pca, y_train)\n",
    "# Evaluate on test set\n",
    "y_pred = final_model.predict(X_test_pca)\n",
    "\n",
    "f1 = f1_score(y_test, y_pred)\n",
    "acc = accuracy_score(y_test, y_pred)\n",
    "prec = precision_score(y_test, y_pred)\n",
    "rec = recall_score(y_test, y_pred)\n",
    "print(\"Performances on the test set:\")\n",
    "print(\"f1:        %.5f\" % f1)\n",
    "print(\"accuracy:  %.5f\" % acc)\n",
    "print(\"precision: %.5f\" % prec)\n",
    "print(\"recall:    %.5f\" % rec)\n",
    "plot_confusion_matrix(y_test, y_pred, [0,1])"
   ]
  },
  {
   "cell_type": "markdown",
   "metadata": {
    "colab_type": "text",
    "id": "BzdXN_6cwRlw"
   },
   "source": [
    "The overall prerformance obtained on the test set were really good. Particurarly, the accuracy was $87\\%$ so the algorithm correctly classified the $87\\%$ of the whole training set which is pretty accurate. Moreover, on the total malicious fires, that were $775$, the $81.8\\%$ are correctly classified as arson and since our purpose was to be able to recognize most of the arson attacks as such to allow the authorities to prosecute the perpetrators, we can say that the aim was successfully achieved."
   ]
  },
  {
   "cell_type": "markdown",
   "metadata": {
    "colab_type": "text",
    "id": "5egn2NtUygqj"
   },
   "source": [
    "# CONCLUSIONS"
   ]
  },
  {
   "cell_type": "markdown",
   "metadata": {
    "colab_type": "text",
    "id": "sExEhugdyy7C"
   },
   "source": [
    "## Missing values classification"
   ]
  },
  {
   "cell_type": "markdown",
   "metadata": {
    "colab_type": "text",
    "id": "UicbUsMCy2vo"
   },
   "source": [
    "As already said, we separated from the original dataset the instances that had 'Missing/Undefined' value as target value. Now that we have selected the best classificator we could apply it to those instances to classify them as arson or non-arson wildfire, since that information was not available at the time of recoring the fire. This situation is similar to a real case in which when we have to classify a new instance, we do not have the real target value. The only thing that we can say is that the previsions on the missing values are correct with an accuracy of $87\\%$, the same that we obtained on the test."
   ]
  },
  {
   "cell_type": "code",
   "execution_count": 55,
   "metadata": {
    "colab": {},
    "colab_type": "code",
    "id": "cbOXF2pyyf-S"
   },
   "outputs": [],
   "source": [
    "y_pred_miss = final_model.predict(X_missing_pca)"
   ]
  },
  {
   "cell_type": "code",
   "execution_count": 56,
   "metadata": {
    "colab": {
     "base_uri": "https://localhost:8080/",
     "height": 52
    },
    "colab_type": "code",
    "executionInfo": {
     "elapsed": 765,
     "status": "ok",
     "timestamp": 1595230794593,
     "user": {
      "displayName": "Lidia Fantauzzo",
      "photoUrl": "",
      "userId": "11215066616897926720"
     },
     "user_tz": -120
    },
    "id": "D8i2mfH2HIb6",
    "outputId": "fb1a5374-79ed-43db-8424-8faf4ba12d9d"
   },
   "outputs": [
    {
     "name": "stdout",
     "output_type": "stream",
     "text": [
      "Number of arson wildfire predicted: 5\n",
      "Number of non-arson wildfire predicted: 85\n"
     ]
    }
   ],
   "source": [
    "arson = [i for i in y_pred_miss if i==1]\n",
    "non_arson = [i for i in y_pred_miss if i==0]\n",
    "print(\"Number of arson wildfire predicted: %.f\" % len(arson))\n",
    "print(\"Number of non-arson wildfire predicted: %.f\" % len(non_arson))"
   ]
  },
  {
   "cell_type": "markdown",
   "metadata": {
    "colab_type": "text",
    "id": "ADZ6GXKPs9nv"
   },
   "source": [
    "## Final discussion"
   ]
  },
  {
   "cell_type": "markdown",
   "metadata": {
    "colab_type": "text",
    "id": "ghOlv5IYtBIW"
   },
   "source": [
    "In this project we aimed to compared some classification methods to find the one which perfomed better on our  \"Million US Wildfires\" dataset. After some data preprocessing and the application of the dimension reduction algorithm, PCA, we applied six different classification methods: Decision tree, Random forest, KNN, Logistic regression, Linear SVM and SVM with RBF kernel. \n",
    "The best turned out to be the SVM with RBF kernel, maybe becuase pairing it with the kernel trick and fine tuning kernels, it may create appropriate feature spaces, where the linear classification is able to classify data created by non-linear phenomena. The accuracy that we obtained on the test set was $87\\%$, so we can say that we were able to construct a model that \n",
    "almost always successfully manages to identify arson.\n"
   ]
  },
  {
   "cell_type": "markdown",
   "metadata": {
    "colab_type": "text",
    "id": "3hFDACTgvAL3"
   },
   "source": [
    "# SITOGRAPHY"
   ]
  },
  {
   "cell_type": "markdown",
   "metadata": {
    "colab_type": "text",
    "id": "LW8Vnc6VvDHz"
   },
   "source": [
    "https://www.kaggle.com/rtatman/188-million-us-wildfires\n",
    "\n",
    "https://geopy.readthedocs.io/en/stable/#nominatim\n",
    "\n",
    "https://pypi.org/project/addfips/\n",
    "\n",
    "https://www.kaggle.com/oilcorner/wildfire-visualization-heat-maps-literally\n",
    "\n",
    "https://www.kaggle.com/bbal20/predict-ca-fire-causation\n",
    "\n",
    "https://plotly.com/python/mapbox-county-choropleth/\n",
    "\n",
    "https://scikit-learn.org/0.18/auto_examples/model_selection/plot_confusion_matrix.html"
   ]
  }
 ],
 "metadata": {
  "colab": {
   "collapsed_sections": [],
   "name": "Incendi 1.88 milioni prova-Copy9.ipynb",
   "provenance": [],
   "toc_visible": true
  },
  "gist_id": "7bcbf2e81fb11e0a4ad32ddd7fd59f1d",
  "kernelspec": {
   "display_name": "Python 3",
   "language": "python",
   "name": "python3"
  },
  "language_info": {
   "codemirror_mode": {
    "name": "ipython",
    "version": 3
   },
   "file_extension": ".py",
   "mimetype": "text/x-python",
   "name": "python",
   "nbconvert_exporter": "python",
   "pygments_lexer": "ipython3",
   "version": "3.7.3"
  },
  "toc": {
   "base_numbering": 1,
   "nav_menu": {
    "height": "188px",
    "width": "344px"
   },
   "number_sections": true,
   "sideBar": true,
   "skip_h1_title": false,
   "title_cell": "Table of Contents",
   "title_sidebar": "Contents",
   "toc_cell": true,
   "toc_position": {},
   "toc_section_display": true,
   "toc_window_display": true
  }
 },
 "nbformat": 4,
 "nbformat_minor": 1
}
